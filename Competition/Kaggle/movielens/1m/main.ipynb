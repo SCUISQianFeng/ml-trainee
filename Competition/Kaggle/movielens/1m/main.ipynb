{
 "cells": [
  {
   "cell_type": "code",
   "execution_count": 1,
   "metadata": {
    "collapsed": true
   },
   "outputs": [
    {
     "data": {
      "text/plain": "   UserID Gender  Age  Occupation Zip-code\n0       1      F    1          10    48067\n1       2      M   56          16    70072\n2       3      M   25          15    55117\n3       4      M   45           7    02460\n4       5      M   25          20    55455",
      "text/html": "<div>\n<style scoped>\n    .dataframe tbody tr th:only-of-type {\n        vertical-align: middle;\n    }\n\n    .dataframe tbody tr th {\n        vertical-align: top;\n    }\n\n    .dataframe thead th {\n        text-align: right;\n    }\n</style>\n<table border=\"1\" class=\"dataframe\">\n  <thead>\n    <tr style=\"text-align: right;\">\n      <th></th>\n      <th>UserID</th>\n      <th>Gender</th>\n      <th>Age</th>\n      <th>Occupation</th>\n      <th>Zip-code</th>\n    </tr>\n  </thead>\n  <tbody>\n    <tr>\n      <th>0</th>\n      <td>1</td>\n      <td>F</td>\n      <td>1</td>\n      <td>10</td>\n      <td>48067</td>\n    </tr>\n    <tr>\n      <th>1</th>\n      <td>2</td>\n      <td>M</td>\n      <td>56</td>\n      <td>16</td>\n      <td>70072</td>\n    </tr>\n    <tr>\n      <th>2</th>\n      <td>3</td>\n      <td>M</td>\n      <td>25</td>\n      <td>15</td>\n      <td>55117</td>\n    </tr>\n    <tr>\n      <th>3</th>\n      <td>4</td>\n      <td>M</td>\n      <td>45</td>\n      <td>7</td>\n      <td>02460</td>\n    </tr>\n    <tr>\n      <th>4</th>\n      <td>5</td>\n      <td>M</td>\n      <td>25</td>\n      <td>20</td>\n      <td>55455</td>\n    </tr>\n  </tbody>\n</table>\n</div>"
     },
     "execution_count": 1,
     "metadata": {},
     "output_type": "execute_result"
    }
   ],
   "source": [
    "\n",
    "import os\n",
    "import pandas as pd\n",
    "\n",
    "# dataset path\n",
    "dir_path = r'E:\\DataSet\\DataSet\\RecommendationSystem\\MovieLens\\ml-1m'\n",
    "user_path = os.path.join(dir_path, 'users.dat')\n",
    "movies_path = os.path.join(dir_path, 'movies.dat')\n",
    "ratings_path = os.path.join(dir_path, 'ratings.dat')\n"
   ]
  },
  {
   "cell_type": "code",
   "execution_count": null,
   "outputs": [],
   "source": [
    "# load user dataset\n",
    "user_columns = ['UserID', 'Gender', 'Age', 'Occupation', 'Zip-code']  # 用户ID，性别、年龄、职业ID、邮编\n",
    "user_pd = pd.read_csv(user_path, sep='::', header=None, names=user_columns, engine='python')\n",
    "user_pd.head()"
   ],
   "metadata": {
    "collapsed": false,
    "pycharm": {
     "name": "#%%\n"
    }
   }
  },
  {
   "cell_type": "code",
   "execution_count": 3,
   "outputs": [
    {
     "data": {
      "text/plain": "   MovieID                               Title                        Genres\n0        1                    Toy Story (1995)   Animation|Children's|Comedy\n1        2                      Jumanji (1995)  Adventure|Children's|Fantasy\n2        3             Grumpier Old Men (1995)                Comedy|Romance\n3        4            Waiting to Exhale (1995)                  Comedy|Drama\n4        5  Father of the Bride Part II (1995)                        Comedy",
      "text/html": "<div>\n<style scoped>\n    .dataframe tbody tr th:only-of-type {\n        vertical-align: middle;\n    }\n\n    .dataframe tbody tr th {\n        vertical-align: top;\n    }\n\n    .dataframe thead th {\n        text-align: right;\n    }\n</style>\n<table border=\"1\" class=\"dataframe\">\n  <thead>\n    <tr style=\"text-align: right;\">\n      <th></th>\n      <th>MovieID</th>\n      <th>Title</th>\n      <th>Genres</th>\n    </tr>\n  </thead>\n  <tbody>\n    <tr>\n      <th>0</th>\n      <td>1</td>\n      <td>Toy Story (1995)</td>\n      <td>Animation|Children's|Comedy</td>\n    </tr>\n    <tr>\n      <th>1</th>\n      <td>2</td>\n      <td>Jumanji (1995)</td>\n      <td>Adventure|Children's|Fantasy</td>\n    </tr>\n    <tr>\n      <th>2</th>\n      <td>3</td>\n      <td>Grumpier Old Men (1995)</td>\n      <td>Comedy|Romance</td>\n    </tr>\n    <tr>\n      <th>3</th>\n      <td>4</td>\n      <td>Waiting to Exhale (1995)</td>\n      <td>Comedy|Drama</td>\n    </tr>\n    <tr>\n      <th>4</th>\n      <td>5</td>\n      <td>Father of the Bride Part II (1995)</td>\n      <td>Comedy</td>\n    </tr>\n  </tbody>\n</table>\n</div>"
     },
     "execution_count": 3,
     "metadata": {},
     "output_type": "execute_result"
    }
   ],
   "source": [
    "# load movie dataset\n",
    "\n",
    "movie_columns = ['MovieID', 'Title', 'Genres']  # 电影ID， 电影名， 电影分类\n",
    "movie_pd = pd.read_csv(movies_path, sep='::', header=None, names=movie_columns, engine='python')\n",
    "movie_pd.head()"
   ],
   "metadata": {
    "collapsed": false,
    "pycharm": {
     "name": "#%%\n"
    }
   }
  },
  {
   "cell_type": "code",
   "execution_count": 4,
   "outputs": [
    {
     "data": {
      "text/plain": "   UserID  MovieID  rating  timestamps\n0       1     1193       5   978300760\n1       1      661       3   978302109\n2       1      914       3   978301968\n3       1     3408       4   978300275\n4       1     2355       5   978824291",
      "text/html": "<div>\n<style scoped>\n    .dataframe tbody tr th:only-of-type {\n        vertical-align: middle;\n    }\n\n    .dataframe tbody tr th {\n        vertical-align: top;\n    }\n\n    .dataframe thead th {\n        text-align: right;\n    }\n</style>\n<table border=\"1\" class=\"dataframe\">\n  <thead>\n    <tr style=\"text-align: right;\">\n      <th></th>\n      <th>UserID</th>\n      <th>MovieID</th>\n      <th>rating</th>\n      <th>timestamps</th>\n    </tr>\n  </thead>\n  <tbody>\n    <tr>\n      <th>0</th>\n      <td>1</td>\n      <td>1193</td>\n      <td>5</td>\n      <td>978300760</td>\n    </tr>\n    <tr>\n      <th>1</th>\n      <td>1</td>\n      <td>661</td>\n      <td>3</td>\n      <td>978302109</td>\n    </tr>\n    <tr>\n      <th>2</th>\n      <td>1</td>\n      <td>914</td>\n      <td>3</td>\n      <td>978301968</td>\n    </tr>\n    <tr>\n      <th>3</th>\n      <td>1</td>\n      <td>3408</td>\n      <td>4</td>\n      <td>978300275</td>\n    </tr>\n    <tr>\n      <th>4</th>\n      <td>1</td>\n      <td>2355</td>\n      <td>5</td>\n      <td>978824291</td>\n    </tr>\n  </tbody>\n</table>\n</div>"
     },
     "execution_count": 4,
     "metadata": {},
     "output_type": "execute_result"
    }
   ],
   "source": [
    "# load rating dataset\n",
    "ratings_columns = ['UserID', 'MovieID', 'rating', 'timestamps']\n",
    "rating_pd = pd.read_csv(ratings_path, sep='::', header=None, names=ratings_columns, engine='python')\n",
    "rating_pd.head()"
   ],
   "metadata": {
    "collapsed": false,
    "pycharm": {
     "name": "#%%\n"
    }
   }
  },
  {
   "cell_type": "code",
   "execution_count": 5,
   "outputs": [
    {
     "data": {
      "text/plain": "['F', 'M']"
     },
     "execution_count": 5,
     "metadata": {},
     "output_type": "execute_result"
    }
   ],
   "source": [
    "# explore user data\n",
    "user_gender = list(user_pd['Gender'].unique())\n",
    "user_gender"
   ],
   "metadata": {
    "collapsed": false,
    "pycharm": {
     "name": "#%%\n"
    }
   }
  },
  {
   "cell_type": "code",
   "execution_count": 6,
   "outputs": [
    {
     "data": {
      "text/plain": "[1, 56, 25, 45, 50, 35, 18]"
     },
     "execution_count": 6,
     "metadata": {},
     "output_type": "execute_result"
    }
   ],
   "source": [
    "user_age = list(user_pd['Age'].unique())\n",
    "user_age"
   ],
   "metadata": {
    "collapsed": false,
    "pycharm": {
     "name": "#%%\n"
    }
   }
  },
  {
   "cell_type": "code",
   "execution_count": 7,
   "outputs": [
    {
     "data": {
      "text/plain": "{1: 0, 56: 1, 25: 2, 45: 3, 50: 4, 35: 5, 18: 6}"
     },
     "execution_count": 7,
     "metadata": {},
     "output_type": "execute_result"
    }
   ],
   "source": [
    "# user data preprocess\n",
    "gender_map  = {'F': 0, 'M': 1}\n",
    "age_map = {value: index for index, value in enumerate(list(user_pd['Age'].unique()))}\n",
    "# age_map\n",
    "# {1: 0, 56: 1, 25: 2, 45: 3, 50: 4, 35: 5, 18: 6"
   ],
   "metadata": {
    "collapsed": false,
    "pycharm": {
     "name": "#%%\n"
    }
   }
  },
  {
   "cell_type": "code",
   "execution_count": 8,
   "outputs": [
    {
     "data": {
      "text/plain": "   UserID  Gender  Age  Occupation Zip-code\n0       1       1    0          10    48067\n1       2       0    1          16    70072\n2       3       0    2          15    55117\n3       4       0    3           7    02460\n4       5       0    2          20    55455",
      "text/html": "<div>\n<style scoped>\n    .dataframe tbody tr th:only-of-type {\n        vertical-align: middle;\n    }\n\n    .dataframe tbody tr th {\n        vertical-align: top;\n    }\n\n    .dataframe thead th {\n        text-align: right;\n    }\n</style>\n<table border=\"1\" class=\"dataframe\">\n  <thead>\n    <tr style=\"text-align: right;\">\n      <th></th>\n      <th>UserID</th>\n      <th>Gender</th>\n      <th>Age</th>\n      <th>Occupation</th>\n      <th>Zip-code</th>\n    </tr>\n  </thead>\n  <tbody>\n    <tr>\n      <th>0</th>\n      <td>1</td>\n      <td>1</td>\n      <td>0</td>\n      <td>10</td>\n      <td>48067</td>\n    </tr>\n    <tr>\n      <th>1</th>\n      <td>2</td>\n      <td>0</td>\n      <td>1</td>\n      <td>16</td>\n      <td>70072</td>\n    </tr>\n    <tr>\n      <th>2</th>\n      <td>3</td>\n      <td>0</td>\n      <td>2</td>\n      <td>15</td>\n      <td>55117</td>\n    </tr>\n    <tr>\n      <th>3</th>\n      <td>4</td>\n      <td>0</td>\n      <td>3</td>\n      <td>7</td>\n      <td>02460</td>\n    </tr>\n    <tr>\n      <th>4</th>\n      <td>5</td>\n      <td>0</td>\n      <td>2</td>\n      <td>20</td>\n      <td>55455</td>\n    </tr>\n  </tbody>\n</table>\n</div>"
     },
     "execution_count": 8,
     "metadata": {},
     "output_type": "execute_result"
    }
   ],
   "source": [
    "user_pd['Gender'] = user_pd['Gender'].map(gender_map)\n",
    "user_pd['Age'] = user_pd['Age'].map(age_map)\n",
    "\n",
    "user_pd.head()\n"
   ],
   "metadata": {
    "collapsed": false,
    "pycharm": {
     "name": "#%%\n"
    }
   }
  },
  {
   "cell_type": "code",
   "execution_count": 17,
   "outputs": [
    {
     "ename": "AttributeError",
     "evalue": "'NoneType' object has no attribute 'group'",
     "output_type": "error",
     "traceback": [
      "\u001B[1;31m---------------------------------------------------------------------------\u001B[0m",
      "\u001B[1;31mAttributeError\u001B[0m                            Traceback (most recent call last)",
      "\u001B[1;32m<ipython-input-17-5e9a4f88560f>\u001B[0m in \u001B[0;36m<module>\u001B[1;34m()\u001B[0m\n\u001B[0;32m      4\u001B[0m \u001B[0mpattern\u001B[0m \u001B[1;33m=\u001B[0m \u001B[0mre\u001B[0m\u001B[1;33m.\u001B[0m\u001B[0mcompile\u001B[0m\u001B[1;33m(\u001B[0m\u001B[1;34mr'^(.*)\\((\\d+)\\)$'\u001B[0m\u001B[1;33m)\u001B[0m\u001B[1;33m\u001B[0m\u001B[1;33m\u001B[0m\u001B[0m\n\u001B[0;32m      5\u001B[0m \u001B[1;31m# group(0): 原始数据 group(1) :第一个匹配的数据\u001B[0m\u001B[1;33m\u001B[0m\u001B[1;33m\u001B[0m\u001B[1;33m\u001B[0m\u001B[0m\n\u001B[1;32m----> 6\u001B[1;33m \u001B[0mtitle_map\u001B[0m \u001B[1;33m=\u001B[0m \u001B[1;33m{\u001B[0m\u001B[0mval\u001B[0m\u001B[1;33m:\u001B[0m \u001B[0mpattern\u001B[0m\u001B[1;33m.\u001B[0m\u001B[0mmatch\u001B[0m\u001B[1;33m(\u001B[0m\u001B[0mval\u001B[0m\u001B[1;33m)\u001B[0m\u001B[1;33m.\u001B[0m\u001B[0mgroup\u001B[0m\u001B[1;33m(\u001B[0m\u001B[1;36m1\u001B[0m\u001B[1;33m)\u001B[0m \u001B[1;32mfor\u001B[0m \u001B[0mindex\u001B[0m\u001B[1;33m,\u001B[0m \u001B[0mval\u001B[0m \u001B[1;32min\u001B[0m \u001B[0menumerate\u001B[0m\u001B[1;33m(\u001B[0m\u001B[0mset\u001B[0m\u001B[1;33m(\u001B[0m\u001B[0mmovie_pd\u001B[0m\u001B[1;33m[\u001B[0m\u001B[1;34m'Title'\u001B[0m\u001B[1;33m]\u001B[0m\u001B[1;33m)\u001B[0m\u001B[1;33m)\u001B[0m\u001B[1;33m}\u001B[0m\u001B[1;33m\u001B[0m\u001B[1;33m\u001B[0m\u001B[0m\n\u001B[0m\u001B[0;32m      7\u001B[0m \u001B[0mmovie_pd\u001B[0m\u001B[1;33m[\u001B[0m\u001B[1;34m'Title'\u001B[0m\u001B[1;33m]\u001B[0m \u001B[1;33m=\u001B[0m \u001B[0mmovie_pd\u001B[0m\u001B[1;33m[\u001B[0m\u001B[1;34m'Title'\u001B[0m\u001B[1;33m]\u001B[0m\u001B[1;33m.\u001B[0m\u001B[0mmap\u001B[0m\u001B[1;33m(\u001B[0m\u001B[0mtitle_map\u001B[0m\u001B[1;33m)\u001B[0m\u001B[1;33m\u001B[0m\u001B[1;33m\u001B[0m\u001B[0m\n\u001B[0;32m      8\u001B[0m \u001B[1;31m# print(pattern.match('Grumpier Old Men (1995)').group(1))\u001B[0m\u001B[1;33m\u001B[0m\u001B[1;33m\u001B[0m\u001B[1;33m\u001B[0m\u001B[0m\n",
      "\u001B[1;32m<ipython-input-17-5e9a4f88560f>\u001B[0m in \u001B[0;36m<dictcomp>\u001B[1;34m(.0)\u001B[0m\n\u001B[0;32m      4\u001B[0m \u001B[0mpattern\u001B[0m \u001B[1;33m=\u001B[0m \u001B[0mre\u001B[0m\u001B[1;33m.\u001B[0m\u001B[0mcompile\u001B[0m\u001B[1;33m(\u001B[0m\u001B[1;34mr'^(.*)\\((\\d+)\\)$'\u001B[0m\u001B[1;33m)\u001B[0m\u001B[1;33m\u001B[0m\u001B[1;33m\u001B[0m\u001B[0m\n\u001B[0;32m      5\u001B[0m \u001B[1;31m# group(0): 原始数据 group(1) :第一个匹配的数据\u001B[0m\u001B[1;33m\u001B[0m\u001B[1;33m\u001B[0m\u001B[1;33m\u001B[0m\u001B[0m\n\u001B[1;32m----> 6\u001B[1;33m \u001B[0mtitle_map\u001B[0m \u001B[1;33m=\u001B[0m \u001B[1;33m{\u001B[0m\u001B[0mval\u001B[0m\u001B[1;33m:\u001B[0m \u001B[0mpattern\u001B[0m\u001B[1;33m.\u001B[0m\u001B[0mmatch\u001B[0m\u001B[1;33m(\u001B[0m\u001B[0mval\u001B[0m\u001B[1;33m)\u001B[0m\u001B[1;33m.\u001B[0m\u001B[0mgroup\u001B[0m\u001B[1;33m(\u001B[0m\u001B[1;36m1\u001B[0m\u001B[1;33m)\u001B[0m \u001B[1;32mfor\u001B[0m \u001B[0mindex\u001B[0m\u001B[1;33m,\u001B[0m \u001B[0mval\u001B[0m \u001B[1;32min\u001B[0m \u001B[0menumerate\u001B[0m\u001B[1;33m(\u001B[0m\u001B[0mset\u001B[0m\u001B[1;33m(\u001B[0m\u001B[0mmovie_pd\u001B[0m\u001B[1;33m[\u001B[0m\u001B[1;34m'Title'\u001B[0m\u001B[1;33m]\u001B[0m\u001B[1;33m)\u001B[0m\u001B[1;33m)\u001B[0m\u001B[1;33m}\u001B[0m\u001B[1;33m\u001B[0m\u001B[1;33m\u001B[0m\u001B[0m\n\u001B[0m\u001B[0;32m      7\u001B[0m \u001B[0mmovie_pd\u001B[0m\u001B[1;33m[\u001B[0m\u001B[1;34m'Title'\u001B[0m\u001B[1;33m]\u001B[0m \u001B[1;33m=\u001B[0m \u001B[0mmovie_pd\u001B[0m\u001B[1;33m[\u001B[0m\u001B[1;34m'Title'\u001B[0m\u001B[1;33m]\u001B[0m\u001B[1;33m.\u001B[0m\u001B[0mmap\u001B[0m\u001B[1;33m(\u001B[0m\u001B[0mtitle_map\u001B[0m\u001B[1;33m)\u001B[0m\u001B[1;33m\u001B[0m\u001B[1;33m\u001B[0m\u001B[0m\n\u001B[0;32m      8\u001B[0m \u001B[1;31m# print(pattern.match('Grumpier Old Men (1995)').group(1))\u001B[0m\u001B[1;33m\u001B[0m\u001B[1;33m\u001B[0m\u001B[1;33m\u001B[0m\u001B[0m\n",
      "\u001B[1;31mAttributeError\u001B[0m: 'NoneType' object has no attribute 'group'"
     ]
    }
   ],
   "source": [
    "import re\n",
    "\n",
    "pattern = re.compile(r'^(.*)\\((\\d+)\\)$')\n",
    "# group(0): 原始数据 group(1) :第一个匹配的数据\n",
    "title_map = {val: pattern.match(val).group(1) for index, val in enumerate(set(movie_pd['Title']))}\n",
    "movie_pd['Title'] = movie_pd['Title'].map(title_map)\n",
    "# print(pattern.match('Grumpier Old Men (1995)').group(1))\n",
    "# 电影类型处理成字典\n",
    "\n",
    "\n",
    "\n",
    "\n",
    "\n",
    "\n"
   ],
   "metadata": {
    "collapsed": false,
    "pycharm": {
     "name": "#%%\n"
    }
   }
  },
  {
   "cell_type": "code",
   "execution_count": 24,
   "outputs": [
    {
     "name": "stdout",
     "output_type": "stream",
     "text": [
      "单一电影类型总数 19\n",
      "电影类型总数 301\n",
      "Action|Drama|Sci-Fi|Thriller [17, 5, 1, 9, 6, 6, 6, 6, 6, 6, 6, 6, 6, 6, 6, 6, 6, 6]\n",
      "Comedy|Film-Noir|Thriller [15, 0, 9, 6, 6, 6, 6, 6, 6, 6, 6, 6, 6, 6, 6, 6, 6, 6]\n",
      "Adventure|Animation|Film-Noir [12, 2, 0, 6, 6, 6, 6, 6, 6, 6, 6, 6, 6, 6, 6, 6, 6, 6]\n",
      "Action|Romance|Sci-Fi [17, 18, 1, 6, 6, 6, 6, 6, 6, 6, 6, 6, 6, 6, 6, 6, 6, 6]\n",
      "Musical|Romance|War [10, 18, 14, 6, 6, 6, 6, 6, 6, 6, 6, 6, 6, 6, 6, 6, 6, 6]\n"
     ]
    }
   ],
   "source": [
    "genres_set = set()\n",
    "for val in movie_pd['Genres'].str.split('|'):\n",
    "    genres_set.update(val)\n",
    "\n",
    "genres_set.add('<PAD>')  # 所有类型字段的集合\n",
    "genres2int = {val: index for index, val in enumerate(genres_set)}\n",
    "\n",
    "print('单一电影类型总数', len(genres2int.keys()))\n",
    "# 19\n",
    "\n",
    "#将电影类型转成等长数字列表，长度是18\n",
    "genres_map = {value: [genres2int[row] for row in value.split('|')] for index,  value in enumerate(set(movie_pd['Genres']))}\n",
    "\n",
    "print('电影类型总数',len(list(genres_map.keys())))\n",
    "# 301\n",
    "\n",
    "for key in genres_map:\n",
    "    for cnt in range(max(genres2int.values()) - len(genres_map[key])):\n",
    "        # genres_map[key]是一个数组，用insert在指定位置插入值（用<PAD>对应的数字填充）类似于独热编码\n",
    "        genres_map[key].insert(len(genres_map[key]) + cnt, genres2int['<PAD>'])\n"
   ],
   "metadata": {
    "collapsed": false,
    "pycharm": {
     "name": "#%%\n"
    }
   }
  },
  {
   "cell_type": "code",
   "execution_count": 30,
   "outputs": [],
   "source": [
    "\n",
    "title_set = set()\n",
    "for val in movie_pd['Title'].str.split():  # 空格分隔符\n",
    "    title_set.update(val)\n",
    "\n",
    "title_set.add('<PAD>')\n",
    "\n",
    "#将电影名称转成等长数字列表，长度是18\n",
    "title2int = {val: index for index, val in enumerate(title_set)}\n",
    "\n",
    "# Buddy  :  0\n",
    "# Walk  :  1\n",
    "# Theater  :  2\n",
    "# Instinct  :  3\n",
    "\n",
    "title_map = {val: [title2int[row] for row in val.split()] for index, val in enumerate(set(movie_pd['Title']))}\n",
    "\n",
    "title_count = 15\n",
    "for key in title_map:\n",
    "    for cnt in range(title_count - len(title_map[key])):\n",
    "        title_map[key].insert(len(title_map[key]) + cnt, title2int['<PAD>'])\n",
    "\n",
    "# Big Chill, The   :  [721, 1806, 1305, 4972, 4972, 4972, 4972, 4972, 4972, 4972, 4972, 4972, 4972, 4972, 4972]\n",
    "# Blame It on Rio   :  [2355, 123, 784, 4818, 4972, 4972, 4972, 4972, 4972, 4972, 4972, 4972, 4972, 4972, 4972]\n",
    "# Waterboy, The   :  [4670, 1305, 4972, 4972, 4972, 4972, 4972, 4972, 4972, 4972, 4972, 4972, 4972, 4972, 4972]\n",
    "# Miss Julie   :  [3912, 126, 4972, 4972, 4972, 4972, 4972, 4972, 4972, 4972, 4972, 4972, 4972, 4972, 4972]\n",
    "# Shakes the Clown   :  [2700, 2641, 421, 4972, 4972, 4972, 4972, 4972, 4972, 4972, 4972, 4972, 4972, 4972, 4972]\n",
    "\n",
    "movie_pd['Title'] = movie_pd['Title'].map(title_map)"
   ],
   "metadata": {
    "collapsed": false,
    "pycharm": {
     "name": "#%%\n"
    }
   }
  },
  {
   "cell_type": "code",
   "execution_count": 34,
   "outputs": [
    {
     "name": "stdout",
     "output_type": "stream",
     "text": [
      "   UserID  MovieID  timestamps  Gender  Age  Occupation Zip-code  \\\n",
      "0       1     1193   978300760       1    0          10    48067   \n",
      "1       2     1193   978298413       0    1          16    70072   \n",
      "2      12     1193   978220179       0    2          12    32793   \n",
      "3      15     1193   978199279       0    2           7    22903   \n",
      "4      17     1193   978158471       0    4           1    95350   \n",
      "\n",
      "                                               Title Genres  \n",
      "0  [3881, 5057, 1696, 2641, 1292, 2400, 4972, 497...  Drama  \n",
      "1  [3881, 5057, 1696, 2641, 1292, 2400, 4972, 497...  Drama  \n",
      "2  [3881, 5057, 1696, 2641, 1292, 2400, 4972, 497...  Drama  \n",
      "3  [3881, 5057, 1696, 2641, 1292, 2400, 4972, 497...  Drama  \n",
      "4  [3881, 5057, 1696, 2641, 1292, 2400, 4972, 497...  Drama  \n",
      "   rating\n",
      "0       5\n",
      "1       5\n",
      "2       4\n",
      "3       4\n",
      "4       5\n"
     ]
    }
   ],
   "source": [
    "\n",
    "# 合并三张表\n",
    "data = pd.merge(pd.merge(rating_pd, user_pd), movie_pd)\n",
    "data.columns\n",
    "target_fields = ['rating']\n",
    "features_pd, targets_pd = data.drop(target_fields, axis=1), data[target_fields]\n",
    "\n",
    "print(features_pd.head())\n",
    "print(targets_pd.head())"
   ],
   "metadata": {
    "collapsed": false,
    "pycharm": {
     "name": "#%%\n"
    }
   }
  },
  {
   "cell_type": "code",
   "execution_count": 36,
   "outputs": [
    {
     "name": "stdout",
     "output_type": "stream",
     "text": [
      "   UserID  Gender  Age  Occupation Zip-code\n",
      "0       1       1    0          10    48067\n",
      "1       2       0    1          16    70072\n",
      "2       3       0    2          15    55117\n",
      "3       4       0    3           7    02460\n",
      "4       5       0    2          20    55455\n",
      "   MovieID                                              Title  \\\n",
      "0        1  [1963, 865, 4972, 4972, 4972, 4972, 4972, 4972...   \n",
      "1        2  [3701, 4972, 4972, 4972, 4972, 4972, 4972, 497...   \n",
      "2        3  [624, 3415, 1092, 4972, 4972, 4972, 4972, 4972...   \n",
      "3        4  [441, 640, 3621, 4972, 4972, 4972, 4972, 4972,...   \n",
      "4        5  [3928, 2025, 2641, 3730, 4210, 3401, 4972, 497...   \n",
      "\n",
      "                                              Genres  \n",
      "0  [2, 16, 15, 6, 6, 6, 6, 6, 6, 6, 6, 6, 6, 6, 6...  \n",
      "1  [12, 16, 7, 6, 6, 6, 6, 6, 6, 6, 6, 6, 6, 6, 6...  \n",
      "2  [15, 18, 6, 6, 6, 6, 6, 6, 6, 6, 6, 6, 6, 6, 6...  \n",
      "3  [15, 5, 6, 6, 6, 6, 6, 6, 6, 6, 6, 6, 6, 6, 6,...  \n",
      "4  [15, 6, 6, 6, 6, 6, 6, 6, 6, 6, 6, 6, 6, 6, 6,...  \n"
     ]
    }
   ],
   "source": [
    "print(user_pd.head())\n",
    "movie_pd['Genres'] = movie_pd['Genres'].map(genres_map)\n",
    "print(movie_pd.head())\n",
    "\n"
   ],
   "metadata": {
    "collapsed": false,
    "pycharm": {
     "name": "#%%\n"
    }
   }
  }
 ],
 "metadata": {
  "kernelspec": {
   "display_name": "Python 3",
   "language": "python",
   "name": "python3"
  },
  "language_info": {
   "codemirror_mode": {
    "name": "ipython",
    "version": 2
   },
   "file_extension": ".py",
   "mimetype": "text/x-python",
   "name": "python",
   "nbconvert_exporter": "python",
   "pygments_lexer": "ipython2",
   "version": "2.7.6"
  }
 },
 "nbformat": 4,
 "nbformat_minor": 0
}