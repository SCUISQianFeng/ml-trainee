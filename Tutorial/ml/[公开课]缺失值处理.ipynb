{
 "cells": [
  {
   "cell_type": "markdown",
   "id": "214be019-7058-4f98-9051-6d9a167d8b18",
   "metadata": {},
   "source": [
    "# <center>《机器学习特征工程实用方法精讲》        "
   ]
  },
  {
   "cell_type": "markdown",
   "id": "0dda506c-7946-4b6c-8662-158636029f12",
   "metadata": {},
   "source": [
    "# <font face=\"仿宋\">课程说明："
   ]
  },
  {
   "cell_type": "markdown",
   "id": "d249bc26-5bb9-498b-b715-a02764264dd0",
   "metadata": {},
   "source": [
    "&emsp;&emsp;<font face=\"仿宋\">小伙伴好呀\\~欢迎来到《2022机器学习实战训练营》试学体验课！我是课程主讲老师，九天。       \n",
    "&emsp;&emsp;本次体验课为期三天（1月12-14号），期间每晚8点在我的B站直播间公开直播，直播间地址:https://live.bilibili.com/22678166      \n",
    "&emsp;&emsp;本期公开课我们将聚焦于特征工程中的常用方法，三天直播每天一个热门主题，带大家快速掌握特征工程实用方法、算法竞赛常用思路。公开课内容节选自《2022机器学习实战训练营》付费正课，2022新版机器学习课程全新升级、重磅上线，正课信息详见https://appZe9inzwc2314.h5.xiaoeknow.com        \n",
    "&emsp;&emsp;课程资料/数据/代码/付费课程信息，扫码添加客服“小可爱”回复【ML】即可领取哦~"
   ]
  },
  {
   "cell_type": "markdown",
   "id": "5b062cb1-2ca9-46aa-850b-60f6d8db3244",
   "metadata": {},
   "source": [
    "<center><img src=\"https://i.loli.net/2021/10/20/ZWTgxSiNY1db9eL.png\" alt=\"二维码\" style=\"zoom:33%;\" />"
   ]
  },
  {
   "cell_type": "markdown",
   "id": "9135c9f6-fa20-4b59-b82b-91a1b2b828ff",
   "metadata": {},
   "source": [
    "&emsp;&emsp;<font face=\"仿宋\">另外，2022新版课程上新特惠持续进行中，十周90+课时体系大课限时七折，扫码咨询小可爱回复“优惠”，还可领取额外折上折优惠，课程主页：https://appze9inzwc2314.pc.xiaoe-tech.com"
   ]
  },
  {
   "cell_type": "markdown",
   "id": "89aab84f-54c7-4e9f-a050-1b6aa079bb1e",
   "metadata": {},
   "source": [
    "---"
   ]
  },
  {
   "cell_type": "markdown",
   "id": "fa2e6d05-6ed2-4236-8073-748accd0d956",
   "metadata": {},
   "source": [
    "# <center> 机器学习特征工程实用方法精讲"
   ]
  },
  {
   "cell_type": "markdown",
   "id": "600edfb8-6a18-48f7-b22c-5474da2f3c89",
   "metadata": {},
   "source": [
    "# <center>Day 1.缺失值处理"
   ]
  },
  {
   "cell_type": "markdown",
   "id": "107a04e4-5760-4fe6-857d-13711e9948bd",
   "metadata": {},
   "source": [
    "首先，先来看这三天的整体安排。"
   ]
  },
  {
   "cell_type": "markdown",
   "id": "377a3fd7-c727-40bf-9ecb-d44f485c49a4",
   "metadata": {},
   "source": [
    "<center><img src=\"https://s2.loli.net/2022/01/12/xUlyDGP91jw83bg.png\" alt=\"image-20220112124405414\" style=\"zoom:50%;\" />"
   ]
  },
  {
   "cell_type": "markdown",
   "id": "4df1037d-5e94-43ab-9c82-857beeb81d4d",
   "metadata": {},
   "source": [
    "## <center>Part 1.基本概念回顾"
   ]
  },
  {
   "cell_type": "markdown",
   "id": "fb27db53-5bab-45af-8850-d34938e5bfb9",
   "metadata": {},
   "source": [
    "### 1.缺失值基本定义"
   ]
  },
  {
   "cell_type": "markdown",
   "id": "8c3b6263-f094-4ef6-a78a-7ca364fd4a38",
   "metadata": {},
   "source": [
    "&emsp;&emsp;首先，我们先来看缺失值的定义与表现。"
   ]
  },
  {
   "cell_type": "markdown",
   "id": "90d77c07-9e61-40a1-a95e-26b9d9762da0",
   "metadata": {},
   "source": [
    "缺失值定义："
   ]
  },
  {
   "cell_type": "markdown",
   "id": "8b6e690e-18f9-4f35-b266-0e138d459467",
   "metadata": {},
   "source": [
    "### <center><font face=\"仿宋\"> 在生成、采集、计算过程中被遗漏的数据信息，被称为缺失值"
   ]
  },
  {
   "cell_type": "markdown",
   "id": "33e33a15-999c-4b01-bad3-2bf347b6cce8",
   "metadata": {},
   "source": [
    "也就是说，所谓缺失值，其根本含义是指数据代表真实状态下的信息的缺失。尝试观察如下表格，判断哪个未被记录的值是缺失的："
   ]
  },
  {
   "cell_type": "markdown",
   "id": "6a976a40-6826-49e9-811e-5ecca4dce071",
   "metadata": {},
   "source": [
    "<center><img src=\"https://s2.loli.net/2022/01/12/lRpWgy8YwGTJNzr.png\" alt=\"image-20220112131505681\" style=\"zoom:50%;\" />"
   ]
  },
  {
   "cell_type": "markdown",
   "id": "eb7f7392-0808-4628-80b8-36e2afef1a21",
   "metadata": {},
   "source": [
    "此处张三的学号和李四的学科B在进行数据记录时都显示的是缺失，但根据简单业务逻辑推断，缺考时成绩应被记为0，因此李四的学科B一项并不能看成是缺失值，而应该被看成是0值。"
   ]
  },
  {
   "cell_type": "markdown",
   "id": "cf01a1f9-6761-44d7-bec0-9ace0f686dc8",
   "metadata": {},
   "source": [
    "&emsp;&emsp;所以，并不是表现为缺失状态的值就一定是缺失值。"
   ]
  },
  {
   "cell_type": "markdown",
   "id": "c2a1496a-0fc3-4c5b-8f5c-b892845467cc",
   "metadata": {},
   "source": [
    "> 当然，通过业务推断来对部分值进行填补，也是数据预处理环节至关重要的一环。"
   ]
  },
  {
   "cell_type": "markdown",
   "id": "6f2e909f-f790-46a3-8d23-f702c600f7e4",
   "metadata": {},
   "source": [
    "### 2.缺失值的具体表现形式及检验方法"
   ]
  },
  {
   "cell_type": "markdown",
   "id": "83a333d5-425a-4381-909c-65f076ec32c4",
   "metadata": {},
   "source": [
    "&emsp;&emsp;对于真实信息缺失的值，在Python中有很多种记录形式，我们可以用Python原生对象的None来进行表示，也可以采用NumPy中的np.nan来进行表示。当然，在大多数时候，我们都会更希望借助NumPy中的科学计算过程，因此更推荐将缺失值表示为np.nan"
   ]
  },
  {
   "cell_type": "code",
   "execution_count": 1,
   "id": "a1297b8f-3870-49fc-bcc0-39650eb8c58b",
   "metadata": {},
   "outputs": [],
   "source": [
    "import numpy as np\n",
    "import pandas as pd"
   ]
  },
  {
   "cell_type": "code",
   "execution_count": 2,
   "id": "f658c236-846c-4c85-9ce5-ba7ae6a30889",
   "metadata": {},
   "outputs": [],
   "source": [
    "None"
   ]
  },
  {
   "cell_type": "code",
   "execution_count": 3,
   "id": "11a02c40-607d-4ccf-be89-b23095775d7c",
   "metadata": {},
   "outputs": [
    {
     "data": {
      "text/plain": [
       "nan"
      ]
     },
     "execution_count": 3,
     "metadata": {},
     "output_type": "execute_result"
    }
   ],
   "source": [
    "np.nan"
   ]
  },
  {
   "cell_type": "markdown",
   "id": "2ebe379a-39f6-4271-85d8-3cc18ebcb943",
   "metadata": {},
   "source": [
    "- 以np.nan形式表示的缺失值"
   ]
  },
  {
   "cell_type": "code",
   "execution_count": 27,
   "id": "339d57c1-ebb9-4b74-8ed7-d2b6ea72283a",
   "metadata": {},
   "outputs": [],
   "source": [
    "df1 = pd.DataFrame({'A':[1, 2, 3], 'B':[2, 3, np.nan]})"
   ]
  },
  {
   "cell_type": "code",
   "execution_count": 28,
   "id": "6dca4233-58a8-43c1-8564-96a1cd1e925b",
   "metadata": {},
   "outputs": [
    {
     "data": {
      "text/html": [
       "<div>\n",
       "<style scoped>\n",
       "    .dataframe tbody tr th:only-of-type {\n",
       "        vertical-align: middle;\n",
       "    }\n",
       "\n",
       "    .dataframe tbody tr th {\n",
       "        vertical-align: top;\n",
       "    }\n",
       "\n",
       "    .dataframe thead th {\n",
       "        text-align: right;\n",
       "    }\n",
       "</style>\n",
       "<table border=\"1\" class=\"dataframe\">\n",
       "  <thead>\n",
       "    <tr style=\"text-align: right;\">\n",
       "      <th></th>\n",
       "      <th>A</th>\n",
       "      <th>B</th>\n",
       "    </tr>\n",
       "  </thead>\n",
       "  <tbody>\n",
       "    <tr>\n",
       "      <th>0</th>\n",
       "      <td>1</td>\n",
       "      <td>2.0</td>\n",
       "    </tr>\n",
       "    <tr>\n",
       "      <th>1</th>\n",
       "      <td>2</td>\n",
       "      <td>3.0</td>\n",
       "    </tr>\n",
       "    <tr>\n",
       "      <th>2</th>\n",
       "      <td>3</td>\n",
       "      <td>NaN</td>\n",
       "    </tr>\n",
       "  </tbody>\n",
       "</table>\n",
       "</div>"
      ],
      "text/plain": [
       "   A    B\n",
       "0  1  2.0\n",
       "1  2  3.0\n",
       "2  3  NaN"
      ]
     },
     "execution_count": 28,
     "metadata": {},
     "output_type": "execute_result"
    }
   ],
   "source": [
    "df1"
   ]
  },
  {
   "cell_type": "markdown",
   "id": "07d94716-02a5-4632-82f5-aaa8508caaf9",
   "metadata": {},
   "source": [
    "- 通过info查看缺失值情况"
   ]
  },
  {
   "cell_type": "code",
   "execution_count": 18,
   "id": "d422ce70-12e8-45f9-9907-ec1094a385a0",
   "metadata": {},
   "outputs": [
    {
     "name": "stdout",
     "output_type": "stream",
     "text": [
      "<class 'pandas.core.frame.DataFrame'>\n",
      "RangeIndex: 3 entries, 0 to 2\n",
      "Data columns (total 2 columns):\n",
      " #   Column  Non-Null Count  Dtype  \n",
      "---  ------  --------------  -----  \n",
      " 0   A       3 non-null      int64  \n",
      " 1   B       2 non-null      float64\n",
      "dtypes: float64(1), int64(1)\n",
      "memory usage: 176.0 bytes\n"
     ]
    }
   ],
   "source": [
    "df1.info()"
   ]
  },
  {
   "cell_type": "markdown",
   "id": "da847835-2f9a-47c7-b888-7f53110c370d",
   "metadata": {},
   "source": [
    "- 用isnull/isna检验缺失值"
   ]
  },
  {
   "cell_type": "code",
   "execution_count": 29,
   "id": "381cfe6e-c852-4fa4-9044-78a4b5e41768",
   "metadata": {},
   "outputs": [
    {
     "data": {
      "text/html": [
       "<div>\n",
       "<style scoped>\n",
       "    .dataframe tbody tr th:only-of-type {\n",
       "        vertical-align: middle;\n",
       "    }\n",
       "\n",
       "    .dataframe tbody tr th {\n",
       "        vertical-align: top;\n",
       "    }\n",
       "\n",
       "    .dataframe thead th {\n",
       "        text-align: right;\n",
       "    }\n",
       "</style>\n",
       "<table border=\"1\" class=\"dataframe\">\n",
       "  <thead>\n",
       "    <tr style=\"text-align: right;\">\n",
       "      <th></th>\n",
       "      <th>A</th>\n",
       "      <th>B</th>\n",
       "    </tr>\n",
       "  </thead>\n",
       "  <tbody>\n",
       "    <tr>\n",
       "      <th>0</th>\n",
       "      <td>False</td>\n",
       "      <td>False</td>\n",
       "    </tr>\n",
       "    <tr>\n",
       "      <th>1</th>\n",
       "      <td>False</td>\n",
       "      <td>False</td>\n",
       "    </tr>\n",
       "    <tr>\n",
       "      <th>2</th>\n",
       "      <td>False</td>\n",
       "      <td>True</td>\n",
       "    </tr>\n",
       "  </tbody>\n",
       "</table>\n",
       "</div>"
      ],
      "text/plain": [
       "       A      B\n",
       "0  False  False\n",
       "1  False  False\n",
       "2  False   True"
      ]
     },
     "execution_count": 29,
     "metadata": {},
     "output_type": "execute_result"
    }
   ],
   "source": [
    "df1.isnull()"
   ]
  },
  {
   "cell_type": "code",
   "execution_count": 30,
   "id": "2ad159ab-a529-4fb3-8876-1f53fa80d2c9",
   "metadata": {},
   "outputs": [
    {
     "data": {
      "text/html": [
       "<div>\n",
       "<style scoped>\n",
       "    .dataframe tbody tr th:only-of-type {\n",
       "        vertical-align: middle;\n",
       "    }\n",
       "\n",
       "    .dataframe tbody tr th {\n",
       "        vertical-align: top;\n",
       "    }\n",
       "\n",
       "    .dataframe thead th {\n",
       "        text-align: right;\n",
       "    }\n",
       "</style>\n",
       "<table border=\"1\" class=\"dataframe\">\n",
       "  <thead>\n",
       "    <tr style=\"text-align: right;\">\n",
       "      <th></th>\n",
       "      <th>A</th>\n",
       "      <th>B</th>\n",
       "    </tr>\n",
       "  </thead>\n",
       "  <tbody>\n",
       "    <tr>\n",
       "      <th>0</th>\n",
       "      <td>False</td>\n",
       "      <td>False</td>\n",
       "    </tr>\n",
       "    <tr>\n",
       "      <th>1</th>\n",
       "      <td>False</td>\n",
       "      <td>False</td>\n",
       "    </tr>\n",
       "    <tr>\n",
       "      <th>2</th>\n",
       "      <td>False</td>\n",
       "      <td>True</td>\n",
       "    </tr>\n",
       "  </tbody>\n",
       "</table>\n",
       "</div>"
      ],
      "text/plain": [
       "       A      B\n",
       "0  False  False\n",
       "1  False  False\n",
       "2  False   True"
      ]
     },
     "execution_count": 30,
     "metadata": {},
     "output_type": "execute_result"
    }
   ],
   "source": [
    "df1.isna()"
   ]
  },
  {
   "cell_type": "markdown",
   "id": "1503675f-31c4-4f5b-b670-8cc47def439a",
   "metadata": {},
   "source": [
    "- 按列检验缺失值"
   ]
  },
  {
   "cell_type": "code",
   "execution_count": 31,
   "id": "cdfa5cd7-5b23-457d-8f2b-3bb7366a8f42",
   "metadata": {},
   "outputs": [
    {
     "data": {
      "text/plain": [
       "A    0\n",
       "B    1\n",
       "dtype: int64"
      ]
     },
     "execution_count": 31,
     "metadata": {},
     "output_type": "execute_result"
    }
   ],
   "source": [
    "df1.isnull().sum()"
   ]
  },
  {
   "cell_type": "markdown",
   "id": "829cbcc5-8d90-484c-80ae-8989b29d1355",
   "metadata": {},
   "source": [
    "- 计算每一列缺失值占比"
   ]
  },
  {
   "cell_type": "code",
   "execution_count": 33,
   "id": "f79b04d2-4faf-483e-bcaf-5d00c2c57089",
   "metadata": {},
   "outputs": [],
   "source": [
    "def missing (df):\n",
    "    \"\"\"\n",
    "    计算每一列的缺失值及占比\n",
    "    \"\"\"\n",
    "    missing_number = df.isnull().sum().sort_values(ascending=False)              # 每一列的缺失值求和后降序排序                  \n",
    "    missing_percent = (df.isnull().sum()/df.isnull().count()).sort_values(ascending=False)          # 每一列缺失值占比\n",
    "    missing_values = pd.concat([missing_number, missing_percent], axis=1, keys=['Missing_Number', 'Missing_Percent'])      # 合并为一个DataFrame\n",
    "    return missing_values"
   ]
  },
  {
   "cell_type": "code",
   "execution_count": 34,
   "id": "60c156ea-1ccf-4011-a829-7d8842ea666a",
   "metadata": {},
   "outputs": [
    {
     "data": {
      "text/html": [
       "<div>\n",
       "<style scoped>\n",
       "    .dataframe tbody tr th:only-of-type {\n",
       "        vertical-align: middle;\n",
       "    }\n",
       "\n",
       "    .dataframe tbody tr th {\n",
       "        vertical-align: top;\n",
       "    }\n",
       "\n",
       "    .dataframe thead th {\n",
       "        text-align: right;\n",
       "    }\n",
       "</style>\n",
       "<table border=\"1\" class=\"dataframe\">\n",
       "  <thead>\n",
       "    <tr style=\"text-align: right;\">\n",
       "      <th></th>\n",
       "      <th>Missing_Number</th>\n",
       "      <th>Missing_Percent</th>\n",
       "    </tr>\n",
       "  </thead>\n",
       "  <tbody>\n",
       "    <tr>\n",
       "      <th>B</th>\n",
       "      <td>1</td>\n",
       "      <td>0.333333</td>\n",
       "    </tr>\n",
       "    <tr>\n",
       "      <th>A</th>\n",
       "      <td>0</td>\n",
       "      <td>0.000000</td>\n",
       "    </tr>\n",
       "  </tbody>\n",
       "</table>\n",
       "</div>"
      ],
      "text/plain": [
       "   Missing_Number  Missing_Percent\n",
       "B               1         0.333333\n",
       "A               0         0.000000"
      ]
     },
     "execution_count": 34,
     "metadata": {},
     "output_type": "execute_result"
    }
   ],
   "source": [
    "missing (df1)"
   ]
  },
  {
   "cell_type": "markdown",
   "id": "06e063e0-5d79-46de-b892-0fb6c86f84b3",
   "metadata": {},
   "source": [
    "- 隐藏缺失值"
   ]
  },
  {
   "cell_type": "markdown",
   "id": "60d21523-65fe-43dd-96b8-97b666dd2e53",
   "metadata": {},
   "source": [
    "&emsp;&emsp;此外，在实际处理数据时，我们还会遇到一些隐藏的缺失数据，即虽然没有形式上的缺失，但实际上却代表的信息缺失的含义。我们拿到了⼀个糖尿病的数据集，数据集共有9列，768个数据点（⾏）。这个数据集希望通过体检结果细节，\n",
    "预测21岁以上的⽪⻢印第安⼥性5年内是否会患糖尿病。也就是⼀个⼆分类的问题。"
   ]
  },
  {
   "cell_type": "markdown",
   "id": "7accb2d5-4b74-47d8-b82f-66e5852caa88",
   "metadata": {},
   "source": [
    "<center><img src=\"https://s2.loli.net/2022/01/12/CuTXlA1LRBhfKHk.png\" alt=\"image-20220112135002023\" style=\"zoom:50%;\" />"
   ]
  },
  {
   "cell_type": "code",
   "execution_count": 35,
   "id": "adc09a52-bdeb-489f-8747-69eb8b905e3f",
   "metadata": {},
   "outputs": [],
   "source": [
    "pima = pd.read_csv('pima.csv')"
   ]
  },
  {
   "cell_type": "code",
   "execution_count": 37,
   "id": "bdc2270e-72bf-4901-9bca-7fab134bd083",
   "metadata": {},
   "outputs": [
    {
     "data": {
      "text/html": [
       "<div>\n",
       "<style scoped>\n",
       "    .dataframe tbody tr th:only-of-type {\n",
       "        vertical-align: middle;\n",
       "    }\n",
       "\n",
       "    .dataframe tbody tr th {\n",
       "        vertical-align: top;\n",
       "    }\n",
       "\n",
       "    .dataframe thead th {\n",
       "        text-align: right;\n",
       "    }\n",
       "</style>\n",
       "<table border=\"1\" class=\"dataframe\">\n",
       "  <thead>\n",
       "    <tr style=\"text-align: right;\">\n",
       "      <th></th>\n",
       "      <th>怀孕次数</th>\n",
       "      <th>2小时耐量试验值</th>\n",
       "      <th>舒张压</th>\n",
       "      <th>三头肌皮褶厚度</th>\n",
       "      <th>2小时血清胰岛素浓度</th>\n",
       "      <th>BMI</th>\n",
       "      <th>遗传函数</th>\n",
       "      <th>age</th>\n",
       "      <th>是否患病</th>\n",
       "    </tr>\n",
       "  </thead>\n",
       "  <tbody>\n",
       "    <tr>\n",
       "      <th>0</th>\n",
       "      <td>6</td>\n",
       "      <td>148</td>\n",
       "      <td>72</td>\n",
       "      <td>35</td>\n",
       "      <td>0</td>\n",
       "      <td>33.6</td>\n",
       "      <td>0.627</td>\n",
       "      <td>50</td>\n",
       "      <td>1</td>\n",
       "    </tr>\n",
       "    <tr>\n",
       "      <th>1</th>\n",
       "      <td>1</td>\n",
       "      <td>85</td>\n",
       "      <td>66</td>\n",
       "      <td>29</td>\n",
       "      <td>0</td>\n",
       "      <td>26.6</td>\n",
       "      <td>0.351</td>\n",
       "      <td>31</td>\n",
       "      <td>0</td>\n",
       "    </tr>\n",
       "    <tr>\n",
       "      <th>2</th>\n",
       "      <td>8</td>\n",
       "      <td>183</td>\n",
       "      <td>64</td>\n",
       "      <td>0</td>\n",
       "      <td>0</td>\n",
       "      <td>23.3</td>\n",
       "      <td>0.672</td>\n",
       "      <td>32</td>\n",
       "      <td>1</td>\n",
       "    </tr>\n",
       "    <tr>\n",
       "      <th>3</th>\n",
       "      <td>1</td>\n",
       "      <td>89</td>\n",
       "      <td>66</td>\n",
       "      <td>23</td>\n",
       "      <td>94</td>\n",
       "      <td>28.1</td>\n",
       "      <td>0.167</td>\n",
       "      <td>21</td>\n",
       "      <td>0</td>\n",
       "    </tr>\n",
       "    <tr>\n",
       "      <th>4</th>\n",
       "      <td>0</td>\n",
       "      <td>137</td>\n",
       "      <td>40</td>\n",
       "      <td>35</td>\n",
       "      <td>168</td>\n",
       "      <td>43.1</td>\n",
       "      <td>2.288</td>\n",
       "      <td>33</td>\n",
       "      <td>1</td>\n",
       "    </tr>\n",
       "  </tbody>\n",
       "</table>\n",
       "</div>"
      ],
      "text/plain": [
       "   怀孕次数  2小时耐量试验值  舒张压  三头肌皮褶厚度  2小时血清胰岛素浓度   BMI   遗传函数  age  是否患病\n",
       "0     6       148   72       35           0  33.6  0.627   50     1\n",
       "1     1        85   66       29           0  26.6  0.351   31     0\n",
       "2     8       183   64        0           0  23.3  0.672   32     1\n",
       "3     1        89   66       23          94  28.1  0.167   21     0\n",
       "4     0       137   40       35         168  43.1  2.288   33     1"
      ]
     },
     "execution_count": 37,
     "metadata": {},
     "output_type": "execute_result"
    }
   ],
   "source": [
    "pima.head(5)"
   ]
  },
  {
   "cell_type": "code",
   "execution_count": 38,
   "id": "ce4bb521-1878-4b11-9059-cf540535d3b1",
   "metadata": {},
   "outputs": [
    {
     "name": "stdout",
     "output_type": "stream",
     "text": [
      "<class 'pandas.core.frame.DataFrame'>\n",
      "RangeIndex: 768 entries, 0 to 767\n",
      "Data columns (total 9 columns):\n",
      " #   Column      Non-Null Count  Dtype  \n",
      "---  ------      --------------  -----  \n",
      " 0   怀孕次数        768 non-null    int64  \n",
      " 1   2小时耐量试验值    768 non-null    int64  \n",
      " 2   舒张压         768 non-null    int64  \n",
      " 3   三头肌皮褶厚度     768 non-null    int64  \n",
      " 4   2小时血清胰岛素浓度  768 non-null    int64  \n",
      " 5   BMI         768 non-null    float64\n",
      " 6   遗传函数        768 non-null    float64\n",
      " 7   age         768 non-null    int64  \n",
      " 8   是否患病        768 non-null    int64  \n",
      "dtypes: float64(2), int64(7)\n",
      "memory usage: 54.1 KB\n"
     ]
    }
   ],
   "source": [
    "pima.info()"
   ]
  },
  {
   "cell_type": "code",
   "execution_count": 39,
   "id": "f374df77-52a9-46af-a223-a576d96bbba8",
   "metadata": {},
   "outputs": [
    {
     "data": {
      "text/html": [
       "<div>\n",
       "<style scoped>\n",
       "    .dataframe tbody tr th:only-of-type {\n",
       "        vertical-align: middle;\n",
       "    }\n",
       "\n",
       "    .dataframe tbody tr th {\n",
       "        vertical-align: top;\n",
       "    }\n",
       "\n",
       "    .dataframe thead th {\n",
       "        text-align: right;\n",
       "    }\n",
       "</style>\n",
       "<table border=\"1\" class=\"dataframe\">\n",
       "  <thead>\n",
       "    <tr style=\"text-align: right;\">\n",
       "      <th></th>\n",
       "      <th>Missing_Number</th>\n",
       "      <th>Missing_Percent</th>\n",
       "    </tr>\n",
       "  </thead>\n",
       "  <tbody>\n",
       "    <tr>\n",
       "      <th>怀孕次数</th>\n",
       "      <td>0</td>\n",
       "      <td>0.0</td>\n",
       "    </tr>\n",
       "    <tr>\n",
       "      <th>2小时耐量试验值</th>\n",
       "      <td>0</td>\n",
       "      <td>0.0</td>\n",
       "    </tr>\n",
       "    <tr>\n",
       "      <th>舒张压</th>\n",
       "      <td>0</td>\n",
       "      <td>0.0</td>\n",
       "    </tr>\n",
       "    <tr>\n",
       "      <th>三头肌皮褶厚度</th>\n",
       "      <td>0</td>\n",
       "      <td>0.0</td>\n",
       "    </tr>\n",
       "    <tr>\n",
       "      <th>2小时血清胰岛素浓度</th>\n",
       "      <td>0</td>\n",
       "      <td>0.0</td>\n",
       "    </tr>\n",
       "    <tr>\n",
       "      <th>BMI</th>\n",
       "      <td>0</td>\n",
       "      <td>0.0</td>\n",
       "    </tr>\n",
       "    <tr>\n",
       "      <th>遗传函数</th>\n",
       "      <td>0</td>\n",
       "      <td>0.0</td>\n",
       "    </tr>\n",
       "    <tr>\n",
       "      <th>age</th>\n",
       "      <td>0</td>\n",
       "      <td>0.0</td>\n",
       "    </tr>\n",
       "    <tr>\n",
       "      <th>是否患病</th>\n",
       "      <td>0</td>\n",
       "      <td>0.0</td>\n",
       "    </tr>\n",
       "  </tbody>\n",
       "</table>\n",
       "</div>"
      ],
      "text/plain": [
       "            Missing_Number  Missing_Percent\n",
       "怀孕次数                     0              0.0\n",
       "2小时耐量试验值                 0              0.0\n",
       "舒张压                      0              0.0\n",
       "三头肌皮褶厚度                  0              0.0\n",
       "2小时血清胰岛素浓度               0              0.0\n",
       "BMI                      0              0.0\n",
       "遗传函数                     0              0.0\n",
       "age                      0              0.0\n",
       "是否患病                     0              0.0"
      ]
     },
     "execution_count": 39,
     "metadata": {},
     "output_type": "execute_result"
    }
   ],
   "source": [
    "missing(pima)"
   ]
  },
  {
   "cell_type": "code",
   "execution_count": 40,
   "id": "c569f67b-31f5-4597-8977-9a1ba9b24846",
   "metadata": {},
   "outputs": [
    {
     "data": {
      "text/html": [
       "<div>\n",
       "<style scoped>\n",
       "    .dataframe tbody tr th:only-of-type {\n",
       "        vertical-align: middle;\n",
       "    }\n",
       "\n",
       "    .dataframe tbody tr th {\n",
       "        vertical-align: top;\n",
       "    }\n",
       "\n",
       "    .dataframe thead th {\n",
       "        text-align: right;\n",
       "    }\n",
       "</style>\n",
       "<table border=\"1\" class=\"dataframe\">\n",
       "  <thead>\n",
       "    <tr style=\"text-align: right;\">\n",
       "      <th></th>\n",
       "      <th>怀孕次数</th>\n",
       "      <th>2小时耐量试验值</th>\n",
       "      <th>舒张压</th>\n",
       "      <th>三头肌皮褶厚度</th>\n",
       "      <th>2小时血清胰岛素浓度</th>\n",
       "      <th>BMI</th>\n",
       "      <th>遗传函数</th>\n",
       "      <th>age</th>\n",
       "      <th>是否患病</th>\n",
       "    </tr>\n",
       "  </thead>\n",
       "  <tbody>\n",
       "    <tr>\n",
       "      <th>count</th>\n",
       "      <td>768.000000</td>\n",
       "      <td>768.000000</td>\n",
       "      <td>768.000000</td>\n",
       "      <td>768.000000</td>\n",
       "      <td>768.000000</td>\n",
       "      <td>768.000000</td>\n",
       "      <td>768.000000</td>\n",
       "      <td>768.000000</td>\n",
       "      <td>768.000000</td>\n",
       "    </tr>\n",
       "    <tr>\n",
       "      <th>mean</th>\n",
       "      <td>3.845052</td>\n",
       "      <td>120.894531</td>\n",
       "      <td>69.105469</td>\n",
       "      <td>20.536458</td>\n",
       "      <td>79.799479</td>\n",
       "      <td>31.992578</td>\n",
       "      <td>0.471876</td>\n",
       "      <td>33.240885</td>\n",
       "      <td>0.348958</td>\n",
       "    </tr>\n",
       "    <tr>\n",
       "      <th>std</th>\n",
       "      <td>3.369578</td>\n",
       "      <td>31.972618</td>\n",
       "      <td>19.355807</td>\n",
       "      <td>15.952218</td>\n",
       "      <td>115.244002</td>\n",
       "      <td>7.884160</td>\n",
       "      <td>0.331329</td>\n",
       "      <td>11.760232</td>\n",
       "      <td>0.476951</td>\n",
       "    </tr>\n",
       "    <tr>\n",
       "      <th>min</th>\n",
       "      <td>0.000000</td>\n",
       "      <td>0.000000</td>\n",
       "      <td>0.000000</td>\n",
       "      <td>0.000000</td>\n",
       "      <td>0.000000</td>\n",
       "      <td>0.000000</td>\n",
       "      <td>0.078000</td>\n",
       "      <td>21.000000</td>\n",
       "      <td>0.000000</td>\n",
       "    </tr>\n",
       "    <tr>\n",
       "      <th>25%</th>\n",
       "      <td>1.000000</td>\n",
       "      <td>99.000000</td>\n",
       "      <td>62.000000</td>\n",
       "      <td>0.000000</td>\n",
       "      <td>0.000000</td>\n",
       "      <td>27.300000</td>\n",
       "      <td>0.243750</td>\n",
       "      <td>24.000000</td>\n",
       "      <td>0.000000</td>\n",
       "    </tr>\n",
       "    <tr>\n",
       "      <th>50%</th>\n",
       "      <td>3.000000</td>\n",
       "      <td>117.000000</td>\n",
       "      <td>72.000000</td>\n",
       "      <td>23.000000</td>\n",
       "      <td>30.500000</td>\n",
       "      <td>32.000000</td>\n",
       "      <td>0.372500</td>\n",
       "      <td>29.000000</td>\n",
       "      <td>0.000000</td>\n",
       "    </tr>\n",
       "    <tr>\n",
       "      <th>75%</th>\n",
       "      <td>6.000000</td>\n",
       "      <td>140.250000</td>\n",
       "      <td>80.000000</td>\n",
       "      <td>32.000000</td>\n",
       "      <td>127.250000</td>\n",
       "      <td>36.600000</td>\n",
       "      <td>0.626250</td>\n",
       "      <td>41.000000</td>\n",
       "      <td>1.000000</td>\n",
       "    </tr>\n",
       "    <tr>\n",
       "      <th>max</th>\n",
       "      <td>17.000000</td>\n",
       "      <td>199.000000</td>\n",
       "      <td>122.000000</td>\n",
       "      <td>99.000000</td>\n",
       "      <td>846.000000</td>\n",
       "      <td>67.100000</td>\n",
       "      <td>2.420000</td>\n",
       "      <td>81.000000</td>\n",
       "      <td>1.000000</td>\n",
       "    </tr>\n",
       "  </tbody>\n",
       "</table>\n",
       "</div>"
      ],
      "text/plain": [
       "             怀孕次数    2小时耐量试验值         舒张压     三头肌皮褶厚度  2小时血清胰岛素浓度         BMI  \\\n",
       "count  768.000000  768.000000  768.000000  768.000000  768.000000  768.000000   \n",
       "mean     3.845052  120.894531   69.105469   20.536458   79.799479   31.992578   \n",
       "std      3.369578   31.972618   19.355807   15.952218  115.244002    7.884160   \n",
       "min      0.000000    0.000000    0.000000    0.000000    0.000000    0.000000   \n",
       "25%      1.000000   99.000000   62.000000    0.000000    0.000000   27.300000   \n",
       "50%      3.000000  117.000000   72.000000   23.000000   30.500000   32.000000   \n",
       "75%      6.000000  140.250000   80.000000   32.000000  127.250000   36.600000   \n",
       "max     17.000000  199.000000  122.000000   99.000000  846.000000   67.100000   \n",
       "\n",
       "             遗传函数         age        是否患病  \n",
       "count  768.000000  768.000000  768.000000  \n",
       "mean     0.471876   33.240885    0.348958  \n",
       "std      0.331329   11.760232    0.476951  \n",
       "min      0.078000   21.000000    0.000000  \n",
       "25%      0.243750   24.000000    0.000000  \n",
       "50%      0.372500   29.000000    0.000000  \n",
       "75%      0.626250   41.000000    1.000000  \n",
       "max      2.420000   81.000000    1.000000  "
      ]
     },
     "execution_count": 40,
     "metadata": {},
     "output_type": "execute_result"
    }
   ],
   "source": [
    "pima.describe()"
   ]
  },
  {
   "cell_type": "markdown",
   "id": "5a5a4c44-8784-4fc2-8a66-9ab5b57d99e8",
   "metadata": {},
   "source": [
    "该记录中的0值，实际上都是缺失值。"
   ]
  },
  {
   "cell_type": "markdown",
   "id": "b17276e5-bc80-4ec3-b393-51555bc24b16",
   "metadata": {},
   "source": [
    "- 缺失值情况分类"
   ]
  },
  {
   "cell_type": "markdown",
   "id": "1b164b4b-c678-4c44-82b2-cdcbaeb982e9",
   "metadata": {},
   "source": [
    "### 3.缺失值处理"
   ]
  },
  {
   "cell_type": "markdown",
   "id": "2102fbfd-149e-4419-a57a-98a34961e73e",
   "metadata": {},
   "source": [
    "目前常见的缺失值处理方法一览："
   ]
  },
  {
   "cell_type": "markdown",
   "id": "88a3aa10-1905-4455-8be8-a0b3eb162d99",
   "metadata": {},
   "source": [
    "<center><img src=\"https://s2.loli.net/2022/01/12/26H9cbdigPpnav5.png\" alt=\"image-20220112170410691\" style=\"zoom:33%;\" />"
   ]
  },
  {
   "cell_type": "markdown",
   "id": "08a610c2-c507-4f1a-832e-4eed16dd433b",
   "metadata": {},
   "source": [
    "使用时注意事项："
   ]
  },
  {
   "cell_type": "markdown",
   "id": "980504d6-f771-457d-a1e4-9eeb91351522",
   "metadata": {},
   "source": [
    "- 非特殊情况不建议采用模型自带的填补方法。CART树的填补仅会导向训练集模型结果最优，但不一定能真实的反应数据真实规律，模型容易过拟合；LGB则是简单的把缺失值看成一类，实际上也就是在执行真值转化；      \n",
    "- 无论何时，如果能够从业务上推断出缺失值的真是取值，都应该首先采用该值进行填补，这是最高优先级的填补策略没有之一；      \n",
    "- 缺失值的占比也会很大程度上影响缺失值填补策略的选择。缺失值占比过大或过小，都没有太大的填补意义。例如，当缺失值比例超过80%时，我们几乎不可能从剩余的20%的数据中还原这一列应有的原始信息，无论用哪种方法填补，“瞎猜”的成分都比较大，最后的建模风险会非常高，因此建议删除；而如果缺失值占比过小，例如仅有0.5%缺失值，则无论用哪种方法填补，实际上数据的变动都不会对该特征的分布造成太大的影响，因此填补的效果也非常有限，此时应优先考虑高效快速完成填补事宜；当然，如果缺失值的比例为50%左右时，此时“猜测”缺失值的取值也变的意义不大，而是否缺失这件事情本身可能会更有价值；      \n",
    "- 很多时候，缺失值填补也不一定仅仅停留在对当前列的缺失数据进行修改，很多时候我们可以采用不同填补方案、生成多个列，然后在实际进行特征筛选时再进行挑选，甚至可以借助一些优化器帮我们筛选出最佳填补列。"
   ]
  },
  {
   "cell_type": "markdown",
   "id": "d649a93d-8a7e-4f63-ad1b-11b9604d7dfe",
   "metadata": {},
   "source": [
    "---"
   ]
  },
  {
   "cell_type": "markdown",
   "id": "f3403b0d-2e2f-4ee1-ab49-d48a7adc8685",
   "metadata": {},
   "source": [
    "## <center>Part 2.简单插补法"
   ]
  },
  {
   "cell_type": "markdown",
   "id": "0676e642-8a69-4b06-817a-cf6809bd2832",
   "metadata": {},
   "source": [
    "#### 1.零值/均值/特殊值填补"
   ]
  },
  {
   "cell_type": "markdown",
   "id": "5951427b-eef0-464a-9eaa-f5226b8e6715",
   "metadata": {},
   "source": [
    "在Pandas中实现过程："
   ]
  },
  {
   "cell_type": "code",
   "execution_count": 48,
   "id": "0a313308-f5d8-4a0e-b048-f183eb460cb4",
   "metadata": {
    "tags": []
   },
   "outputs": [
    {
     "name": "stdout",
     "output_type": "stream",
     "text": [
      "<class 'pandas.core.frame.DataFrame'>\n",
      "RangeIndex: 494 entries, 0 to 493\n",
      "Data columns (total 9 columns):\n",
      " #   Column      Non-Null Count  Dtype  \n",
      "---  ------      --------------  -----  \n",
      " 0   怀孕次数        494 non-null    int64  \n",
      " 1   2小时耐量试验值    494 non-null    float64\n",
      " 2   舒张压         494 non-null    float64\n",
      " 3   三头肌皮褶厚度     494 non-null    float64\n",
      " 4   2小时血清胰岛素浓度  494 non-null    float64\n",
      " 5   BMI         494 non-null    float64\n",
      " 6   遗传函数        494 non-null    float64\n",
      " 7   age         494 non-null    int64  \n",
      " 8   是否患病        494 non-null    int64  \n",
      "dtypes: float64(6), int64(3)\n",
      "memory usage: 34.9 KB\n"
     ]
    },
    {
     "data": {
      "text/plain": [
       "(494, 9)"
      ]
     },
     "execution_count": 48,
     "metadata": {},
     "output_type": "execute_result"
    }
   ],
   "source": [
    "data = pd.read_csv('pima2.csv')\n",
    "data\n",
    "data.info()\n",
    "data.shape"
   ]
  },
  {
   "cell_type": "code",
   "execution_count": 49,
   "id": "d0a10d50-1ea1-474c-a7c0-9326998902a9",
   "metadata": {},
   "outputs": [],
   "source": [
    "# 1、确定插⼊缺失值的⽐例\n",
    "missing_rate = 0.3\n",
    "\n",
    "# 2、计算插⼊缺失值的点数\n",
    "X_full, y_full = data.iloc[:,:-1], data.iloc[:,-1]\n",
    "n_samples = X_full.shape[0]\n",
    "n_features= X_full.shape[1]\n",
    "n_missing_samples =int(np.round(n_samples * n_features * missing_rate))\n",
    "#n_missing_samples = int(np.floor(n_samples * n_features * missing_rate))\n",
    "#np.floor向下取整，返回.0格式的浮点数\n",
    "#np.round向上取整，返回.0格式的浮点数\n",
    "#我们希望放⼊的缺失数据的⽐例假设是30%，那总共就要有1185-1186个数据缺失\n",
    "n_missing_samples\n",
    "\n",
    "# 3、获得插⼊缺失值的位置的索引\n",
    "rng = np.random.RandomState(0)\n",
    "# 缺失值插⼊位置的列索引 (0,8,1186)\n",
    "missing_col_index = rng.randint(0,n_features,n_missing_samples)\n",
    "# 缺失值插⼊位置的⾏索引(0,494,1186)\n",
    "missing_row_index = rng.randint(0,n_samples,n_missing_samples)\n",
    "\n",
    "# 4、按照对应的⾏索引和列索隐插⼊缺失值到指定位置：\n",
    "X_missing = X_full.copy()\n",
    "y_missing = y_full.copy()\n",
    "# 按照索引数据（DataFrame）插⼊缺失值\n",
    "for i in range(n_missing_samples):\n",
    "    X_missing.iloc[missing_row_index[i],missing_col_index[i]] = np.nan\n",
    "# 把标签列拼接回来，使数据集和原始数据集维度⼀致\n",
    "data_missing = X_missing\n",
    "data_missing[\"是否患病\"] = y_missing"
   ]
  },
  {
   "cell_type": "code",
   "execution_count": 50,
   "id": "e0e757aa-625f-402d-8e53-f9e14713d430",
   "metadata": {},
   "outputs": [],
   "source": [
    "from scipy import stats\n",
    "import matplotlib.pyplot as plt\n",
    "import seaborn as sns\n",
    "from sklearn.impute import SimpleImputer"
   ]
  },
  {
   "cell_type": "code",
   "execution_count": 51,
   "id": "022fac94-a1ec-4de5-a96b-0dfe13781034",
   "metadata": {},
   "outputs": [],
   "source": [
    "plt.style.use('fivethirtyeight') # ⼀种⽐较流⾏的绘图⻛格\n",
    "plt.rcParams['font.sans-serif'] = ['Arial Unicode MS'] #显示中⽂标签\n",
    "plt.rcParams['axes.unicode_minus']=False #⽤来正常显示负号\n",
    "sns.set(font='Arial Unicode MS',font_scale=1.2) # mac⽤户解决Seaborn中⽂\n",
    "%matplotlib inline"
   ]
  },
  {
   "cell_type": "code",
   "execution_count": 53,
   "id": "307a7d30-ae92-436d-bfd8-dd98e00a20fc",
   "metadata": {},
   "outputs": [
    {
     "name": "stderr",
     "output_type": "stream",
     "text": [
      "findfont: Font family ['Arial Unicode MS'] not found. Falling back to DejaVu Sans.\n",
      "findfont: Font family ['Arial Unicode MS'] not found. Falling back to DejaVu Sans.\n"
     ]
    },
    {
     "data": {
      "image/png": "[encoded data removed]",
      "text/plain": [
       "<Figure size 432x288 with 1 Axes>"
      ]
     },
     "metadata": {
      "needs_background": "light"
     },
     "output_type": "display_data"
    }
   ],
   "source": [
    "# ⽤0填补缺失值\n",
    "data_fill_0 = data_missing.copy()\n",
    "data_fill_0 = data_fill_0.fillna(value = 0)\n",
    "\n",
    "# ⽤均值填补缺失值\n",
    "data_fill_mean = data_missing.copy()\n",
    "data_fill_mean[\"age\"] = data_fill_mean[\"age\"].fillna(data_fill_mean[\"age\"].mean())\n",
    "data_fill_mean.isnull().sum()\n",
    "\n",
    "# ⽤众数填补缺失值\n",
    "data_fill_mode = data_missing.copy()\n",
    "data_fill_mode[\"age\"] = data_fill_mode[\"age\"].fillna(data_fill_mode[\"age\"].mode()[0])\n",
    "data_fill_mode.isnull().sum()\n",
    "\n",
    "# 使⽤下⼀个值填补缺失值\n",
    "\"\"\"\n",
    "method =\n",
    "    ffill/pad:从缺失值前⾯的有效值来从前往后填充\n",
    "    bfill/backfill:从缺失值后⾯的有效值来从后往前填补\n",
    "\"\"\"\n",
    "data_fill_bf = data_missing.copy()\n",
    "data_fill_bf[\"age\"]= data_fill_bf[\"age\"].fillna(method='bfill')\n",
    "\n",
    "# 使⽤前⼀个值填补缺失值\n",
    "data_fill_pad = data.copy()\n",
    "data_fill_pad[\"age\"]= data_fill_pad[\"age\"].fillna(method='pad')\n",
    "\n",
    "# 使⽤插值函数插补缺失值\n",
    "\"\"\"\n",
    "method =\n",
    "    nearest：最邻近插值法\n",
    "    zero：阶梯插值\n",
    "    slinear、linear：线性插值\n",
    "    quadratic、cubic：2、3阶B样条曲线插值\n",
    "\"\"\"\n",
    "data_fill_it = data_missing.copy()\n",
    "data_fill_it[\"age\"]= data_fill_it[\"age\"].interpolate(method = \"linear\")\n",
    "\n",
    "# 可视化数据拟合情况\n",
    "datas = [data_fill_0,data_fill_mean,data_fill_mode,data_fill_bf,data_fill_it,data_fill_pad]\n",
    "mths = [\"fill_0\",\"fill_mean\",\"fill_mode\",\"fill_bf\",\"fill_it\",\"fill_pad\",\"data_missing\"]\n",
    "plt.figure()\n",
    "ax = sns.kdeplot(data_missing[\"age\"],color = \"m\",shade = True)\n",
    "for dat in datas:\n",
    "    ax = sns.kdeplot(dat[\"age\"])\n",
    "ax = ax.legend(mths)\n",
    "plt.show()"
   ]
  },
  {
   "cell_type": "markdown",
   "id": "c026f197-e697-4d68-9cde-c2e8b2c5c974",
   "metadata": {},
   "source": [
    "在sklearn中实现过程："
   ]
  },
  {
   "cell_type": "code",
   "execution_count": 70,
   "id": "19e3b657-6255-48ba-8c77-3395c02e04b0",
   "metadata": {},
   "outputs": [],
   "source": [
    "from sklearn.impute import SimpleImputer\n",
    "import numpy as np\n",
    "import pandas as pd\n",
    "from scipy import stats\n",
    "from scipy.interpolate import lagrange #scipy⾃带的拉格朗⽇插值函数\n",
    "import matplotlib.pyplot as plt\n",
    "import seaborn as sns\n",
    "from sklearn.impute import SimpleImputer\n",
    "plt.style.use('fivethirtyeight') # ⼀种⽐较流⾏的绘图⻛格\n",
    "plt.rcParams['font.sans-serif'] = ['Arial Unicode MS'] #显示中⽂标签\n",
    "plt.rcParams['axes.unicode_minus']=False #⽤来正常显示负号\n",
    "sns.set(font='Arial Unicode MS',font_scale=1.2) # mac⽤户解决Seaborn中⽂\n",
    "import warnings\n",
    "warnings.filterwarnings(\"ignore\")"
   ]
  },
  {
   "cell_type": "code",
   "execution_count": 71,
   "id": "78dc0688-0bb0-4112-83f2-e3de63d7289d",
   "metadata": {},
   "outputs": [
    {
     "data": {
      "image/png": "[encoded data removed]",
      "text/plain": [
       "<Figure size 432x288 with 1 Axes>"
      ]
     },
     "metadata": {},
     "output_type": "display_data"
    }
   ],
   "source": [
    "mm = np.array(data_missing['2小时血清胰岛素浓度']).reshape(-1,1) #sklearn当中特征矩阵必须是⼆维\n",
    "\n",
    "# ⽤0填充\n",
    "data_imp_0 = data_missing.copy()\n",
    "imp_0 = SimpleImputer(strategy=\"constant\",fill_value=0) # 实例化，⽤0填充\n",
    "imp_0 = imp_0.fit_transform(mm)                         # fit_transform⼀步调取填补结果\n",
    "data_imp_0.loc[:,'2小时血清胰岛素浓度'] = imp_0\n",
    "data_imp_0.isnull().sum()\n",
    "\n",
    "# ⽤均值填充\n",
    "data_imp_mean = data_missing.copy()\n",
    "imp_mean = SimpleImputer()                               #实例化，默认均值填补\n",
    "imp_mean = imp_mean.fit_transform(mm)                    # fit_transform⼀步调取填补结果\n",
    "data_imp_mean.loc[:,'2小时血清胰岛素浓度'] = imp_mean\n",
    "data_imp_mean.isnull().sum()\n",
    "\n",
    "# ⽤众数填充\n",
    "data_imp_mode = data_missing.copy()\n",
    "imp_mode = SimpleImputer(strategy=\"most_frequent\") #⽤众数填补缺失值\n",
    "imp_mode = imp_mode.fit_transform(mm) # fit_transform⼀步调取填补结果\n",
    "data_imp_mode.loc[:,'2小时血清胰岛素浓度'] = imp_mode\n",
    "data_imp_mode.isnull().sum()\n",
    "\n",
    "# ⽤中位数填充\n",
    "data_imp_median = data_missing.copy()\n",
    "imp_median = SimpleImputer(strategy=\"median\") #⽤中位数填补\n",
    "imp_median = imp_median.fit_transform(mm) # fit_transform⼀步调取填补结果\n",
    "data_imp_median.loc[:,'2小时血清胰岛素浓度'] = imp_median\n",
    "data_imp_median.isnull().sum()\n",
    "\n",
    "# 画图看拟合情况\n",
    "datas = [data_imp_0,data_imp_mean,data_imp_mode,data_imp_median] # 基于不同填补⽅法的数据集列表\n",
    "mths = [\"fill_0\",\"fill_mean\",\"fill_mode\",\"fill_median\",\"data_missing\"] # 图例名称列表\n",
    "plt.figure() # 初始化⼀个画布\n",
    "ax = sns.kdeplot(data_missing['2小时血清胰岛素浓度'],color = \"r\",shade = True) # 绘制原始数据分布\n",
    "for dat in datas:\n",
    "    ax = sns.kdeplot(dat['2小时血清胰岛素浓度'])                            # 逐个填补后的数据分布\n",
    "ax = ax.legend(mths)                                                   # 图例名称\n",
    "plt.show()"
   ]
  },
  {
   "cell_type": "markdown",
   "id": "12c429d3-f1ba-4f60-80b3-e274cc378eff",
   "metadata": {},
   "source": [
    "- 分层均值"
   ]
  },
  {
   "cell_type": "markdown",
   "id": "9448728c-06cd-4166-a1df-c848921a1f72",
   "metadata": {},
   "source": [
    "&emsp;&emsp;所谓分层均值，指的是先找出缺失值列（A）和与之相关性最强的一个属性（B），然后对B列进行聚类分层，并按照相同划分方式对A进行划分，然后查询每个缺失值对应的B列中的值所属簇，然后取该簇的均值作为缺失值的填补值，相关过程如下："
   ]
  },
  {
   "cell_type": "markdown",
   "id": "54f54f84-bc85-49bb-8f2b-da6de1731a28",
   "metadata": {},
   "source": [
    "(均值填补)"
   ]
  },
  {
   "cell_type": "markdown",
   "id": "fa4cf9bc-c939-4de4-b96b-a293653b3818",
   "metadata": {},
   "source": [
    "<center><img src=\"https://s2.loli.net/2022/01/12/4f8Ho96AZ7InkKg.png\" alt=\"image-20220112173844538\" style=\"zoom:50%;\" />"
   ]
  },
  {
   "cell_type": "markdown",
   "id": "0a94e4bf-2cdd-40d2-900f-2dae82c21a55",
   "metadata": {},
   "source": [
    "(分层均值填补)"
   ]
  },
  {
   "cell_type": "markdown",
   "id": "325cb6c0-71e1-4b11-88ff-22c5c61bde8c",
   "metadata": {},
   "source": [
    "<center><img src=\"https://s2.loli.net/2022/01/12/RcNQKTLqxM6oh9D.png\" alt=\"image-20220112173904473\" style=\"zoom:50%;\" />"
   ]
  },
  {
   "cell_type": "code",
   "execution_count": 72,
   "id": "9ad65d97-3ad2-4233-af76-6b4cc4685201",
   "metadata": {},
   "outputs": [
    {
     "data": {
      "text/plain": [
       "怀孕次数          126\n",
       "2小时耐量试验值      122\n",
       "舒张压           130\n",
       "三头肌皮褶厚度       140\n",
       "2小时血清胰岛素浓度      0\n",
       "BMI           121\n",
       "遗传函数          133\n",
       "age             0\n",
       "是否患病            0\n",
       "dtype: int64"
      ]
     },
     "execution_count": 72,
     "metadata": {},
     "output_type": "execute_result"
    }
   ],
   "source": [
    "# 选择age列进⾏数据分层，⾸先⽤均值填补age列缺失值\n",
    "data_fill_mean = data_missing.copy()\n",
    "data_fill_mean[\"age\"] = data_fill_mean[\"age\"].fillna(data_fill_mean[\"age\"].mean())\n",
    "data_fill_mean.isnull().sum()\n",
    "\n",
    "\n",
    "# 以age列的规律进⾏数据分层，并使⽤分层均值填补\"2⼩时⾎清胰岛素浓度\"列的缺失值\n",
    "# 1、对数据分组保留记录，⽤于后续分层均值填补验证\n",
    "data_range = data_fill_mean[\"age\"].max() - data_fill_mean[\"age\"].min()\n",
    "data_group = data_range / 12\n",
    "bins = [int(data_fill_mean[\"age\"].min() -1) +12*i for i in range(6)]\n",
    "bins[-1] = int(data_fill_mean[\"age\"].max())+1\n",
    "labels = []\n",
    "for i in range(len(bins)-1):\n",
    "    labels.append(str([bins[i],bins[i+1]]))\n",
    "    i += 1\n",
    "# 将sale对应到指定的分组区间\n",
    "df = data_fill_mean.copy()\n",
    "df['age_catg'] =pd.cut(data_fill_mean.age,bins)\n",
    "# 统计每组频数\n",
    "aggResult = df.groupby(by = ['age_catg']).agg({'age':'count'})\n",
    "aggResult\n",
    "\n",
    "# 2、以age分层结果将“2⼩时⾎清胰岛素浓度”按照分层均值填补\n",
    "data_fill_avmean = data_fill_mean.copy() # 使⽤填补过\"age\"列缺失值的数据为原始数据进⾏后续操作\n",
    "for i in range(len(bins)-1):\n",
    "    ser = (data_fill_avmean[\"age\"] > bins[i] ) & (data_fill_avmean[\"age\"] <= bins[i+1])\n",
    "    df = data_fill_avmean['2小时血清胰岛素浓度'][ser]\n",
    "    avmean = df.mean()\n",
    "    bool_index = df.index[np.where(np.isnan(df))]\n",
    "    for k in range(len(bool_index)):\n",
    "        data_fill_avmean.loc[bool_index[k],'2小时血清胰岛素浓度'] = avmean\n",
    "data_fill_avmean.isnull().sum()\n",
    "\n",
    "# 3、使⽤sklearn.impute.SimpleImputer进⾏均值填补\n",
    "mm = np.array(data_missing.loc[:,'2小时血清胰岛素浓度']).reshape(-1,1) #sklearn当中特征矩阵必须是⼆维\n",
    "data_imp_mean = data_fill_mean.copy() #为便于对⽐，这⾥与data_fill_avmean的原始数据保持⼀致\n",
    "imp_mean = SimpleImputer() #实例化，默认均值填补\n",
    "imp_mean = imp_mean.fit_transform(mm)\n",
    "data_imp_mean.loc[:,'2小时血清胰岛素浓度'] = imp_mean\n",
    "data_imp_mean.isnull().sum()"
   ]
  },
  {
   "cell_type": "code",
   "execution_count": 73,
   "id": "cd9543bb-8cca-421f-af64-e090ea3607a7",
   "metadata": {},
   "outputs": [
    {
     "data": {
      "text/html": [
       "<div>\n",
       "<style scoped>\n",
       "    .dataframe tbody tr th:only-of-type {\n",
       "        vertical-align: middle;\n",
       "    }\n",
       "\n",
       "    .dataframe tbody tr th {\n",
       "        vertical-align: top;\n",
       "    }\n",
       "\n",
       "    .dataframe thead th {\n",
       "        text-align: right;\n",
       "    }\n",
       "</style>\n",
       "<table border=\"1\" class=\"dataframe\">\n",
       "  <thead>\n",
       "    <tr style=\"text-align: right;\">\n",
       "      <th></th>\n",
       "      <th>age</th>\n",
       "    </tr>\n",
       "    <tr>\n",
       "      <th>age_catg</th>\n",
       "      <th></th>\n",
       "    </tr>\n",
       "  </thead>\n",
       "  <tbody>\n",
       "    <tr>\n",
       "      <th>(20, 32]</th>\n",
       "      <td>234</td>\n",
       "    </tr>\n",
       "    <tr>\n",
       "      <th>(32, 44]</th>\n",
       "      <td>205</td>\n",
       "    </tr>\n",
       "    <tr>\n",
       "      <th>(44, 56]</th>\n",
       "      <td>41</td>\n",
       "    </tr>\n",
       "    <tr>\n",
       "      <th>(56, 68]</th>\n",
       "      <td>13</td>\n",
       "    </tr>\n",
       "    <tr>\n",
       "      <th>(68, 82]</th>\n",
       "      <td>1</td>\n",
       "    </tr>\n",
       "  </tbody>\n",
       "</table>\n",
       "</div>"
      ],
      "text/plain": [
       "          age\n",
       "age_catg     \n",
       "(20, 32]  234\n",
       "(32, 44]  205\n",
       "(44, 56]   41\n",
       "(56, 68]   13\n",
       "(68, 82]    1"
      ]
     },
     "execution_count": 73,
     "metadata": {},
     "output_type": "execute_result"
    }
   ],
   "source": [
    "aggResult"
   ]
  },
  {
   "cell_type": "code",
   "execution_count": 75,
   "id": "0de71c2c-6ef1-423b-9fc5-dac6021c4cc4",
   "metadata": {},
   "outputs": [
    {
     "data": {
      "text/plain": [
       "234"
      ]
     },
     "execution_count": 75,
     "metadata": {},
     "output_type": "execute_result"
    }
   ],
   "source": [
    "len(data_fill_avmean['2小时血清胰岛素浓度'][(data_fill_avmean[\"age\"]> bins[0])&\n",
    "(data_fill_avmean[\"age\"]<= bins[1])])"
   ]
  },
  {
   "cell_type": "markdown",
   "id": "aceeaa42-7e83-4c9b-8ab3-42af73f2637a",
   "metadata": {},
   "source": [
    "对比分层均值和普通均值结果"
   ]
  },
  {
   "cell_type": "code",
   "execution_count": 76,
   "id": "516bba04-641d-4bce-82a0-9504da6640b8",
   "metadata": {},
   "outputs": [
    {
     "data": {
      "image/png": "[encoded data removed]",
      "text/plain": [
       "<Figure size 432x288 with 1 Axes>"
      ]
     },
     "metadata": {},
     "output_type": "display_data"
    }
   ],
   "source": [
    "# 分层均值填补⽅法和均值填补⽅法与原数据拟合对⽐\n",
    "datas = [data_imp_mean,data_fill_avmean,data_missing]\n",
    "mths = [\"imp_mean\",\"avmean\",\"data_missing\"]\n",
    "plt.figure()\n",
    "ax = sns.kdeplot(data_missing['2小时血清胰岛素浓度'],color = \"r\",shade = True)\n",
    "for dat in datas:\n",
    "    ax = sns.kdeplot(dat['2小时血清胰岛素浓度'])\n",
    "ax = ax.legend(mths)\n",
    "plt.show()"
   ]
  },
  {
   "cell_type": "markdown",
   "id": "fb28f6ca-a255-4e5d-b750-a3cf1920c564",
   "metadata": {},
   "source": [
    "- 若采用K-Means聚类算法，则能够更显著提升分层均值效果；      \n",
    "- 在大多数情况下，分层均值效果都要好于普通均值效果；"
   ]
  },
  {
   "cell_type": "markdown",
   "id": "2ae93e78-9686-4281-9b20-f09d9d90f3ee",
   "metadata": {},
   "source": [
    "#### 2.热平台插补法"
   ]
  },
  {
   "cell_type": "markdown",
   "id": "e9b9777b-5aee-4aeb-9f91-493ccb653f7f",
   "metadata": {},
   "source": [
    "&emsp;&emsp;热平台插补法是指在⼀组完整样本中寻找与不完整样本相似的样本，并利⽤该样本的属性值填补缺失值。平台插补⽅法不以统计量或推测值为填补结果，⽽是直接以数据集中样本⾃身的数值为填补值。通常我们会到超出⼀个的相似对象，在所有匹配对象中没有最好的，⽽是从中随机的挑选⼀个作为填充值。在此类⽅法设计过程中，需要解决的主要问题是：如何选择相似样本。处理该问题⾸先要确定相似样本的来源。传统的平台插补法从整个数据集完整样本中寻找与不完整样本相似的样本，不仅会增加算法的时间复杂度和空间复杂度，还往往使得所选样本与不完整样本的相似度不⾼，影响填补精度。"
   ]
  },
  {
   "cell_type": "markdown",
   "id": "28afc02e-e229-46b2-ae19-cdd808a043c3",
   "metadata": {},
   "source": [
    "- 随机热平台插补"
   ]
  },
  {
   "cell_type": "markdown",
   "id": "28fa4982-3c58-4e2d-9e4e-eded4d228ac4",
   "metadata": {},
   "source": [
    "&emsp;&emsp;随机热平台插补法从不完整样本所在⼦集中随机抽取完整样本作为其相似样本，并将相似本的现有值作为填补结果。该⽅法的主要优势在于当不完整样本数量较多时，其选择相似样本的⽅式可视为种有放回的随机抽样，所得填补结果不会影响样本总体分布情况。"
   ]
  },
  {
   "cell_type": "markdown",
   "id": "7a53f48e-0787-4be0-a424-b1b184f4c709",
   "metadata": {},
   "source": [
    "- 最近邻热平台插补"
   ]
  },
  {
   "cell_type": "markdown",
   "id": "62108ed7-317b-4d0a-b868-f910ebbdf834",
   "metadata": {},
   "source": [
    "&emsp;&emsp;最近邻热平台插补法根据不完整样本中的现有值计算其与完整样本的距离，从⽽选择相似样本。为了获得更加精确的\n",
    "近邻样本，该⽅法通常根据与不完整属性相关联的属性计算样本距离。"
   ]
  },
  {
   "cell_type": "markdown",
   "id": "d5d11f4b-468a-43d3-997a-82a860cfb0c8",
   "metadata": {},
   "source": [
    "- 序贯热平台插补"
   ]
  },
  {
   "cell_type": "markdown",
   "id": "6f7fe64b-a0b6-4538-90fc-63ee9f17e4b2",
   "metadata": {},
   "source": [
    "&emsp;&emsp;序贯热平台插补法通过计算属性间的相关性找出与不完整属性相关性最⾼的完整属性，随后对⼦集内的样本基于该完\n",
    "整属性按照⼀定的顺序排列。对于不完整属性中的缺失值，将其上⽅相邻样本的现有值作为填补结果。"
   ]
  },
  {
   "cell_type": "markdown",
   "id": "330d8713-2b8f-4a98-b9b4-80a9c8b03454",
   "metadata": {},
   "source": [
    "三种热平台插补法对比："
   ]
  },
  {
   "cell_type": "code",
   "execution_count": 83,
   "id": "c5ab8c36-2bd1-449e-97d3-f3f01fce19e3",
   "metadata": {},
   "outputs": [
    {
     "name": "stdout",
     "output_type": "stream",
     "text": [
      "<class 'pandas.core.frame.DataFrame'>\n",
      "RangeIndex: 494 entries, 0 to 493\n",
      "Data columns (total 9 columns):\n",
      " #   Column      Non-Null Count  Dtype  \n",
      "---  ------      --------------  -----  \n",
      " 0   怀孕次数        494 non-null    int64  \n",
      " 1   2小时耐量试验值    494 non-null    float64\n",
      " 2   舒张压         494 non-null    float64\n",
      " 3   三头肌皮褶厚度     494 non-null    float64\n",
      " 4   2小时血清胰岛素浓度  494 non-null    float64\n",
      " 5   BMI         494 non-null    float64\n",
      " 6   遗传函数        494 non-null    float64\n",
      " 7   age         494 non-null    int64  \n",
      " 8   是否患病        494 non-null    int64  \n",
      "dtypes: float64(6), int64(3)\n",
      "memory usage: 34.9 KB\n",
      "<class 'pandas.core.frame.DataFrame'>\n",
      "RangeIndex: 494 entries, 0 to 493\n",
      "Data columns (total 8 columns):\n",
      " #   Column      Non-Null Count  Dtype  \n",
      "---  ------      --------------  -----  \n",
      " 0   怀孕次数        442 non-null    float64\n",
      " 1   2小时耐量试验值    452 non-null    float64\n",
      " 2   舒张压         443 non-null    float64\n",
      " 3   三头肌皮褶厚度     494 non-null    float64\n",
      " 4   2小时血清胰岛素浓度  494 non-null    float64\n",
      " 5   BMI         494 non-null    float64\n",
      " 6   遗传函数        494 non-null    float64\n",
      " 7   age         494 non-null    int64  \n",
      "dtypes: float64(7), int64(1)\n",
      "memory usage: 31.0 KB\n"
     ]
    },
    {
     "data": {
      "text/plain": [
       "怀孕次数          0\n",
       "2小时耐量试验值      0\n",
       "舒张压           0\n",
       "三头肌皮褶厚度       0\n",
       "2小时血清胰岛素浓度    0\n",
       "BMI           0\n",
       "遗传函数          0\n",
       "age           0\n",
       "age_catg      0\n",
       "dtype: int64"
      ]
     },
     "execution_count": 83,
     "metadata": {},
     "output_type": "execute_result"
    }
   ],
   "source": [
    "# ⼀、查看数据基本情况\n",
    "import numpy as np\n",
    "import pandas as pd\n",
    "#import miceforest as mf\n",
    "data = pd.read_csv(\"pima2.csv\")\n",
    "data\n",
    "data.info()\n",
    "data.shape\n",
    "\n",
    "# ⼆、插⼊缺失值\n",
    "# 1、确定插⼊缺失值的⽐例\n",
    "missing_rate = 0.1\n",
    "# 2、计算插⼊缺失值的点数\n",
    "X_full, y_full = data.iloc[:,:3], data.iloc[:,3:]\n",
    "n_samples = X_full.shape[0]\n",
    "n_features= X_full.shape[1]\n",
    "n_missing_samples =int(np.round(n_samples * n_features * missing_rate))\n",
    "#n_missing_samples = int(np.floor(n_samples * n_features * missing_rate))\n",
    "#np.floor向下取整，返回.0格式的浮点数\n",
    "#np.round向上取整，返回.0格式的浮点数\n",
    "#我们希望放⼊的缺失数据的⽐例假设是30%，那总共就要有1185-1186个数据缺失\n",
    "n_missing_samples\n",
    "\n",
    "# 3、获得插⼊缺失值的位置的索引\n",
    "rng = np.random.RandomState(0)\n",
    "# 缺失值插⼊位置的列索引 (0,8,1186)\n",
    "missing_col_index = rng.randint(0,n_features,n_missing_samples)\n",
    "# 缺失值插⼊位置的⾏索引(0,494,1186)\n",
    "missing_row_index = rng.randint(0,n_samples,n_missing_samples)\n",
    "\n",
    "# 4、按照对应的⾏索引和列索隐插⼊缺失值到指定位置：\n",
    "X_missing = X_full.copy()\n",
    "y_missing = y_full.copy()\n",
    "# 按照索引数据（DataFrame）插⼊缺失值\n",
    "for i in range(n_missing_samples):\n",
    "    X_missing.iloc[missing_row_index[i],missing_col_index[i]] = np.nan\n",
    "# 把标签列拼接回来，使数据集和原始数据集维度⼀致\n",
    "data_missing = X_missing\n",
    "data_missing[y_full.columns] = y_missing\n",
    "data_missing = data_missing.iloc[:,:-1]\n",
    "data_missing.info()\n",
    "\n",
    "# 三、序贯热平台填补缺失值\n",
    "# 对数据分组\n",
    "data2 = data_missing.copy()\n",
    "data_range = data2[\"age\"].max() - data2[\"age\"].min()\n",
    "data_group = data_range / 12\n",
    "bins = [20,28,35,45,82]\n",
    "labels = []\n",
    "for i in range(len(bins)-1):\n",
    "    labels.append(str([bins[i],bins[i+1]]))\n",
    "    i += 1\n",
    "# 将age对应到指定的分组区间\n",
    "data2['age_catg'] =pd.cut(data2.age,bins)\n",
    "# 统计每组频数\n",
    "aggResult = data2.groupby(by = ['age_catg']).agg({'age':'count'})\n",
    "aggResult\n",
    "\n",
    "# 分组并保存⼦集\n",
    "tp = []\n",
    "LF = []\n",
    "for i in range(aggResult.shape[0]):\n",
    "    tpl= data2[data2[\"age_catg\"] == aggResult.index[i]]\n",
    "    tp.append(tpl)\n",
    "    df = pd.DataFrame(tp[i].isnull().sum())\n",
    "    df_not_null_index = df[df[0]== 0].index\n",
    "    df_null_index = df[df[0]!= 0].index\n",
    "    full_feature = tp[i][df_not_null_index]\n",
    "    for j in range(len(df_null_index)):\n",
    "        L_full_feature = full_feature.copy()\n",
    "        L_full_feature[df_null_index[j]] = tp[i][df_null_index[j]]\n",
    "        LF.append(L_full_feature)\n",
    "len(LF)\n",
    "\n",
    "df_LF = np.array(LF,dtype = object)\n",
    "df_LF = df_LF.reshape(len(tp),-1)\n",
    "df_LF.shape\n",
    "\n",
    "\n",
    "# 计算相关系数，选择与缺失属性相关性最⾼的属性进⾏数据重新排序，并使⽤缺失值的下⼀个有效值进⾏缺失值填补\n",
    "# 填补完毕后⽤填补过的属性替换分组数据集中的相应字段\n",
    "for i in range(df_LF.shape[0]):\n",
    "    for j in range(df_LF.shape[1]):\n",
    "        corrs = df_LF[i][j].corr()\n",
    "        best_feat = df_LF[i][j].corr().abs().round(2).sort_values(by = df_null_index[j],ascending = False).index[1]\n",
    "        df_LF[i][j] = df_LF[i][j].sort_values(by = best_feat,ascending = False)\n",
    "        df_LF[i][j][df_null_index[j]] = df_LF[i][j][df_null_index[j]].fillna(method = \"bfill\").fillna(df_LF[i][j][df_null_index[j]].mean())\n",
    "        df_LF[i][j] = df_LF[i][j].sort_index()\n",
    "\n",
    "        s = tp[i].copy()\n",
    "        s.loc[:,df_null_index[j]] = df_LF[i][j][df_null_index[j]]\n",
    "        tp[i] = s.copy()\n",
    "        \n",
    "# 最后拼接每组填补好的数据，并重新按照索引排序，恢复数据原本排列\n",
    "data_fill = pd.concat([i for i in tp])\n",
    "data_fill = data_fill.sort_index()\n",
    "\n",
    "# 查看最终填补完毕后数据的缺失值情况\n",
    "data_fill.isnull().sum()"
   ]
  },
  {
   "cell_type": "markdown",
   "id": "c552acb6-ddc8-4f90-8e6f-af9fece1d4e7",
   "metadata": {},
   "source": [
    "---"
   ]
  },
  {
   "cell_type": "markdown",
   "id": "d38c1996-11f5-4b55-85ce-dcca15eeac57",
   "metadata": {},
   "source": [
    "## <center>Part 3.进阶插补法"
   ]
  },
  {
   "cell_type": "markdown",
   "id": "fe5d5038-909b-4b12-a9e0-ed65e0b04ea9",
   "metadata": {},
   "source": [
    "#### 1.插值法"
   ]
  },
  {
   "cell_type": "markdown",
   "id": "a7c6e37a-c8b1-4594-ad96-dc605bb04d04",
   "metadata": {},
   "source": [
    "&emsp;&emsp;在离散数据的基础上补插连续的函数，使得这条连续函数经过所有离散数据点，通过这个连续函数我可以计算出任意⼀个点的近似函数值，将这个近似函数值作为插补值，从⽽实现插值。其实在线性插补⽅法中，我们已经看到了插值的思想：我们只需要知道前后两个点的数据就可以进⾏插补，这个待插补值就是前后两点连成的直线所确定的函数在当前待插补位置的函数值，它的实现⽅法之⼀如下图："
   ]
  },
  {
   "cell_type": "markdown",
   "id": "99ef863e-6c4e-4963-981e-e1cde3174083",
   "metadata": {},
   "source": [
    "<center><img src=\"https://s2.loli.net/2022/01/12/3HKbAoJgpztxLTu.png\" alt=\"image-20220112174701097\" style=\"zoom:50%;\" />"
   ]
  },
  {
   "cell_type": "markdown",
   "id": "7f791045-42b7-4e62-97e4-9beaa60ab84a",
   "metadata": {},
   "source": [
    "&emsp;&emsp;但是，这种近似插补的⽅法太粗糙，在实际情况下，我们有时候需要更为精准的插补⽅法来⽀持我们的后续⼯作。这⾥我们引⼊插值法，其意义在于：插值是离散函数逼近的重要⽅法，利⽤它可通过函数在有限个点处的取值状况，估算出函数在其他点处的近似值，即利⽤已知点建⽴合适的插值函数$f(x)$，未知点由对应的点$x_i$求出的函数$f(x_i)$值近似代替。"
   ]
  },
  {
   "cell_type": "markdown",
   "id": "0a104c6d-c23c-4e5b-ae17-e197c6af04b5",
   "metadata": {},
   "source": [
    "&emsp;&emsp;这⾥呢，我们将⼀个函数类作为未知函数$f(x)$的近似函数，这个函数类可以是多项式，可以是三⻆函数，也可以是任何可以表示复杂现象的函数类。不论是哪⼀类函数，我们的这个函都是由若⼲个插值条件来确定的：$f(x_i)=y_i(i=1,2,...,n)$，即这个函数可以通过所有样本点。        \n",
    "&emsp;&emsp;基于这个逻辑，由插值节点确定的插值函数的函数值就可以作为缺失值的近似插补值。      \n",
    "&emsp;&emsp;那这⾥我们就需要知道，这个近似函数和近似函数值如何定。⾸先，近似函数值是基于近似插值函数计算得到的。因此我们只需要找到这个近似插值函数！那么问题来这，这个近似函数如何确定呢？⽐如我们这⾥我们假定存在⼀个未知函数$y=f(x)$，已知若⼲个点处的函数值："
   ]
  },
  {
   "cell_type": "markdown",
   "id": "40627f38-44c9-4f2a-ad4c-c000eb16182f",
   "metadata": {},
   "source": [
    "<center><img src=\"https://s2.loli.net/2022/01/12/SuVDs4iMtvymIgF.png\" alt=\"image-20220112175330602\" style=\"zoom:50%;\" />"
   ]
  },
  {
   "cell_type": "markdown",
   "id": "7ead1b3d-bfbf-471d-9fae-5a0e7d2f0da1",
   "metadata": {},
   "source": [
    "那我们都知道，任意的的⼀组有限个数的数，我们都可以寻找到他们的通项，就是找到⼀个函数 可以通过述的所有点。那这个函数所确定的曲线其实可以是多种情况的："
   ]
  },
  {
   "cell_type": "markdown",
   "id": "243ef536-d37b-46aa-b5aa-13db06c2e8fc",
   "metadata": {},
   "source": [
    "<center><img src=\"https://s2.loli.net/2022/01/12/5PXbR86IUuLtdcQ.png\" alt=\"image-20220112175353007\" style=\"zoom:50%;\" />"
   ]
  },
  {
   "cell_type": "markdown",
   "id": "73f05309-eb85-40af-81d5-9469fb5a9bd0",
   "metadata": {},
   "source": [
    "因此，满⾜上述数据的函数有⽆数个，我们究竟使⽤哪⼀个近似函数作为我们最终的插值函数来求解这个似替代值呢？这⾥就需要⼀个简单的规则了：众多有限个数据的通项，他们可以是三⻆函数、也可以是多项函数等。⽽我们在插值的时候，是尽量找到⼀个满⾜上述数据的⾜够好的函数，来代表或者近似$f(x)$，那这⾥我们就要对⾜够好设定⼀个统⼀的标准：        \n",
    "- 形式简单        \n",
    "- 容易计算        \n",
    "- ⾜够好的形态，即具有⾜够⾼阶的导数（可导优于连续，连续优于离散）。        "
   ]
  },
  {
   "cell_type": "markdown",
   "id": "e75723c7-5f5c-4364-8e35-3b6efda2efe7",
   "metadata": {},
   "source": [
    "具有这样的特点的函数，通常是⼀类函数：多项式函数！       \n",
    "那这⾥我们既然已经确定了多项式函数这⼀类函作为插值函数的近似函数，那我们就知道了插值函数的具体形式了。⽐如，该组数据⼀共有 个插值节点，也是说具有 个插值条件，要使这些插值条件同时得到满⾜，只能使⽤n-1次多项式作为插值函数，显然这样的插值函数具有以下形式："
   ]
  },
  {
   "cell_type": "markdown",
   "id": "eb5d5352-2a10-4651-8f1f-82b3bf407569",
   "metadata": {},
   "source": [
    "$$y=a_0+a_1x+a_2x^2+...+a_{n-1}x^{n-1}$$"
   ]
  },
  {
   "cell_type": "markdown",
   "id": "37b5a6f5-a52b-4e71-986a-ed3b27b064af",
   "metadata": {},
   "source": [
    "根据插值条件的不同，我们得到的插值函数也不同。⽽插值节点互不相同，上述的⽅程必然有唯⼀的解。就是多项式函数可以作为插值函数的近似函数的原因了。我们通过求解近似函数的解，就可以得到缺失值的似带插补值。那多项式插值中具有代表的函数包括：拉格朗⽇插值法，⽜顿插值法......"
   ]
  },
  {
   "cell_type": "markdown",
   "id": "6034b9c6-8bda-435a-803b-989dc6dd723c",
   "metadata": {},
   "source": [
    "【更多数学理论细节讨论，详见正课】"
   ]
  },
  {
   "cell_type": "markdown",
   "id": "39629005-5119-4a0b-be43-b306b573b34b",
   "metadata": {},
   "source": [
    "<center><img src=\"https://s2.loli.net/2022/01/12/8n4uvaZpMFdbwSs.png\" alt=\"image-20220112175854840\" style=\"zoom:33%;\" />"
   ]
  },
  {
   "cell_type": "markdown",
   "id": "8758fad9-7cb8-4542-814d-a07deb31655b",
   "metadata": {},
   "source": [
    "<center><img src=\"https://s2.loli.net/2022/01/12/R2Ep15X7ndbkrju.png\" alt=\"image-20220112175906914\" style=\"zoom:33%;\" />"
   ]
  },
  {
   "cell_type": "markdown",
   "id": "d4c0865a-ad13-457c-a222-76e4b4bafe84",
   "metadata": {},
   "source": [
    "- 拉格朗日插值法实现过程："
   ]
  },
  {
   "cell_type": "code",
   "execution_count": 77,
   "id": "31c22585-262e-4862-85a7-8c5cb0499c31",
   "metadata": {},
   "outputs": [],
   "source": [
    "# 导⼊必要的库\n",
    "from scipy.interpolate import lagrange # Scipy当中的拉格朗⽇插值函数\n",
    "import matplotlib.pyplot as plt\n",
    "import numpy as np\n",
    "import pandas as pd\n",
    "%matplotlib inline\n",
    "plt.rcParams['font.sans-serif'] = ['Arial Unicode MS'] #显示中⽂标签\n",
    "plt.rcParams['axes.unicode_minus']=False #⽤来正常显示负号"
   ]
  },
  {
   "cell_type": "code",
   "execution_count": 80,
   "id": "19763602-a862-4c23-9874-c4f2a205cb04",
   "metadata": {},
   "outputs": [
    {
     "data": {
      "text/plain": [
       "怀孕次数          126\n",
       "2小时耐量试验值      122\n",
       "舒张压           130\n",
       "三头肌皮褶厚度       140\n",
       "2小时血清胰岛素浓度      0\n",
       "BMI           121\n",
       "遗传函数          133\n",
       "age             0\n",
       "是否患病            0\n",
       "dtype: int64"
      ]
     },
     "execution_count": 80,
     "metadata": {},
     "output_type": "execute_result"
    }
   ],
   "source": [
    "# 定义拉格朗⽇函数\n",
    "def lg(datasets):\n",
    "    #⾃定义列向量插值函数\n",
    "    def ployinterp_column(s,n, k=3): \n",
    "        y = s.reindex(list(range(n-k, n+1+k))) # 取数\n",
    "        y = y[y.notnull()] # 剔除空值\n",
    "        return lagrange(y.index, list(y))(n) # 插值并返回插值结果：即使⽤拉格朗⽇函数计算x对应的y值\n",
    "\n",
    "    #逐个元素判断是否需要插值\n",
    "    for p in datasets.columns:\n",
    "        for q in range(len(datasets)):\n",
    "            if (datasets[p].isnull())[q]: # 如果为空即插值:j为插补列中缺失值所在的⾏索引\n",
    "                datasets.loc[q,p] = ployinterp_column(datasets[p], q) # 将拉格朗⽇计算出的插补值填充到缺失值所在的位置\n",
    "    return datasets\n",
    "\n",
    "# 使⽤拉格朗⽇插值法进⾏缺失值插补\n",
    "data_missing = pd.read_csv(\"data_missing.csv\")\n",
    "data_missing\n",
    "\n",
    "# 对DataFrame中所有的特征使⽤拉格朗⽇插值法进⾏缺失值填补\n",
    "data_0 = data_missing.copy() # 或得⼀个数据集\n",
    "lg(data_0) # 调⽤拉格朗⽇插值函数\n",
    "data_0.isnull().sum() # 统计插值后数据集的缺失值情况\n",
    "\n",
    "# 对DataFrame中的其中⼀个特征使⽤拉格朗⽇插值法进⾏缺失值填补\n",
    "data_2 = data_missing.copy() # 获得⼀个数据集\n",
    "df = data_2[\"age\"] # 索引出要填补的列（⼤于2列）\n",
    "df = pd.DataFrame(np.array(data_2[\"age\"]).reshape(-1,1)) # 将这个列⽣维到2维，并转换成DataFrame\n",
    "lg(df) # 调⽤拉格朗⽇插值函数，对索引出来的列进⾏缺失值的填补\n",
    "data_2[\"age\"] = df # 将填补好的列放回到原数据集中\n",
    "data_2\n",
    "data_2.isnull().sum() # 统计填补完成后数据集中的缺失值情况\n",
    "\n",
    "# 对DataFrame中所有的其中⼏个（⼤于1个）特征使⽤拉格朗⽇插值法进⾏缺失值填补\n",
    "data_1 = data_missing.copy() # 获得⼀个数据集\n",
    "cols = [\"age\",'2小时血清胰岛素浓度'] # 索引出要填补的列（⼤于1列）\n",
    "for col in cols :\n",
    "    df = pd.DataFrame(np.array(data_1[col]).reshape(-1,1))\n",
    "    lg(df) \n",
    "    data_1[col] = df\n",
    "data_1.isnull().sum()"
   ]
  },
  {
   "cell_type": "markdown",
   "id": "a3b192c0-bd4b-4f6f-9b65-f4d7813dcdc8",
   "metadata": {},
   "source": [
    "在缺失值比例不大，且训练集和测试集数据分布规律高度一致时，可以考虑使用拉格朗日插补。"
   ]
  },
  {
   "cell_type": "markdown",
   "id": "428cd776-7c38-4ac4-bc50-6f55aff6d350",
   "metadata": {},
   "source": [
    "&emsp;&emsp;在前⾯讲过的缺失值插补⽅法中，替换法思想简单、效率⾼效，但是其替换的值往往不具有很⾼的准确性。插值法是⼀种介于固定值/统计量和算法拟合插补之间的⽅法，在缺失⽐例不⼤，数据规律保持较好的情况下，相对于⼤量单\n",
    "⼀值的插补⽅法，插补精度较⾼；相对于算法拟合插补，且具有较强的可解释性。序贯热平台是更进⼀步挖掘相关属\n",
    "性价值的缺失填补⽅法，近两年备受推崇。\n",
    "      \n",
    "&emsp;&emsp;⽽相对于前⾯学习的多种缺失值插补⽅法，拟合插补是⼀种借助机器学习⽅法，解决机器学习前的缺失值填补问题的\n",
    "⽅法，是⼀种从机器学习中来，到机器学习中去的缺失值插补⽅法，是⽬前使⽤较多的⽅法！拟合插补法则是利⽤有\n",
    "监督的机器学习⽅法，⽐如回归、最邻近、随机森林、⽀持向量机等模型，对缺失值作预测，其优势在于预测的准确\n",
    "性⾼，缺点是需要⼤量的计算。但是伴随着计算资源越来越容易被满⾜，这部分计算消耗往往可以被忽略。\n",
    "      \n",
    "&emsp;&emsp;以回归拟合为例，最简单的填补策略是针对每个不完整属性分别构建以该属性为因变量、以完整属性为⾃变量的回归\n",
    "模型，进⽽填补所有的缺失值。但是，当不完整属性的数量远远⼤于完整属性的数量，这种拟合插补策略容易造成已\n",
    "知信息的极⼤浪费，为了合理利⽤数据集内的所有现有值，⽬前都是使⽤回归集群的⽅式来拟合插补缺失值：即，根\n",
    "据每个回归模型计算相应不完整属性的填补值，并利⽤这些填补值替换属性中的缺失值，随后将包含填补值的属性⽤\n",
    "于后续建模。填补值和现有值共同参与建模的⽅式使不完整数据集内的现有数据得以充分利⽤。\n",
    "        \n",
    "&emsp;&emsp;这种迭代式的模型拟合插补⽅法，最⼤的优势是充分利⽤了已知信息，劣势是迭代式的模型构建和求解增加了时间复\n",
    "杂度。⽇常使⽤需要根据业务需求进⾏合理评估。"
   ]
  },
  {
   "cell_type": "code",
   "execution_count": 87,
   "id": "d1e70e2e-692e-4232-aeaf-e8ee9f27e8fe",
   "metadata": {},
   "outputs": [
    {
     "data": {
      "text/plain": [
       "(494, 9)"
      ]
     },
     "execution_count": 87,
     "metadata": {},
     "output_type": "execute_result"
    }
   ],
   "source": [
    "# 导⼊必要的库\n",
    "import pandas as pd\n",
    "import numpy as np\n",
    "import matplotlib.pyplot as plt\n",
    "from sklearn.impute import SimpleImputer\n",
    "from sklearn.impute import KNNImputer\n",
    "from sklearn.neighbors import KNeighborsClassifier,KNeighborsRegressor\n",
    "from sklearn.ensemble import RandomForestRegressor, RandomForestClassifier\n",
    "from sklearn.tree import DecisionTreeRegressor\n",
    "from sklearn.linear_model import LinearRegression\n",
    "from sklearn.svm import SVR\n",
    "# ⼀、查看数据基本情况\n",
    "data = pd.read_csv(\"pima2.csv\")\n",
    "data.shape"
   ]
  },
  {
   "cell_type": "code",
   "execution_count": 88,
   "id": "fc29df1d-db1e-4b44-b0a1-7125d8f594d1",
   "metadata": {},
   "outputs": [
    {
     "data": {
      "text/plain": [
       "怀孕次数          0\n",
       "2小时耐量试验值      0\n",
       "舒张压           0\n",
       "三头肌皮褶厚度       0\n",
       "2小时血清胰岛素浓度    0\n",
       "BMI           0\n",
       "遗传函数          0\n",
       "age           0\n",
       "是否患病          0\n",
       "dtype: int64"
      ]
     },
     "execution_count": 88,
     "metadata": {},
     "output_type": "execute_result"
    }
   ],
   "source": [
    "data.isnull().sum()"
   ]
  },
  {
   "cell_type": "code",
   "execution_count": 89,
   "id": "99986ace-bf3c-45a5-9402-a1ce5892474a",
   "metadata": {},
   "outputs": [],
   "source": [
    "def missing_data_generate(data):\n",
    "    def missing_columns(missing_columns= data.columns[:-1],missing_rate = 0.25,random_states = 0):\n",
    "        \"\"\"\n",
    "        data ：要添加缺失值的原始完整数据集\n",
    "        missing_rate ：插⼊缺失值的⽐例\n",
    "        missing_columns ：插⼊缺失值的列\n",
    "        random_states ：随机数⽣成使⽤的随机数种⼦\n",
    "        \"\"\"\n",
    "        # 1、确定插⼊缺失值的⽐例\n",
    "        missing_rate = missing_rate\n",
    "        missing_columns = missing_columns\n",
    "        # 2、计算插⼊缺失值的点数\n",
    "        X_full= data.loc[:,missing_columns]\n",
    "        n_samples = X_full.shape[0]\n",
    "        n_features= X_full.shape[1]\n",
    "        n_missing_samples =int(np.round(n_samples * n_features * missing_rate))\n",
    "        # 3、获得插⼊缺失值的位置的索引\n",
    "        # ⽣成随机整数的random模块\n",
    "        rng = np.random.RandomState(random_states)\n",
    "        # 缺失值插⼊位置的列索引\n",
    "        missing_col_index = rng.randint(0,n_features,n_missing_samples)\n",
    "        # 缺失值插⼊位置的⾏索引\n",
    "        missing_row_index = rng.randint(0,n_samples,n_missing_samples)\n",
    "        # 4、按照对应的⾏索引和列索隐插⼊缺失值到指定位置：\n",
    "        X_missing = X_full.copy()\n",
    "        # 按照索引数据（DataFrame）插⼊缺失值\n",
    "        for i in range(n_missing_samples):\n",
    "            X_missing.iloc[missing_row_index[i],missing_col_index[i]] = np.nan\n",
    "        # 把标签列拼接回来，使数据集和原始数据集维度⼀致\n",
    "        data_missing = data.copy()\n",
    "        data_missing[X_missing.columns] = X_missing\n",
    "        # 返回插⼊缺失值之后的数据集\n",
    "        return data_missing\n",
    "    return missing_columns"
   ]
  },
  {
   "cell_type": "code",
   "execution_count": 90,
   "id": "d51de2ea-6317-4102-89c1-059a229dba6c",
   "metadata": {},
   "outputs": [],
   "source": [
    "data_missing = missing_data_generate(data)(missing_columns = data.columns[1:5])"
   ]
  },
  {
   "cell_type": "code",
   "execution_count": 91,
   "id": "93142460-d615-49e9-87b8-14b708d943ce",
   "metadata": {},
   "outputs": [
    {
     "data": {
      "text/plain": [
       "怀孕次数            0\n",
       "2小时耐量试验值      115\n",
       "舒张压           109\n",
       "三头肌皮褶厚度        96\n",
       "2小时血清胰岛素浓度    122\n",
       "BMI             0\n",
       "遗传函数            0\n",
       "age             0\n",
       "是否患病            0\n",
       "dtype: int64"
      ]
     },
     "execution_count": 91,
     "metadata": {},
     "output_type": "execute_result"
    }
   ],
   "source": [
    "data_missing.isnull().sum()"
   ]
  },
  {
   "cell_type": "code",
   "execution_count": 92,
   "id": "a4330629-6160-4ba8-b908-a89056438c0a",
   "metadata": {},
   "outputs": [],
   "source": [
    "def fill_na_mths0(data_missing,model):\n",
    "    # 使⽤随机森林填补缺失值\n",
    "    X_missing_fillna = data_missing.copy()\n",
    "    sortindex = X_missing_fillna.isnull().sum().sort_values().index\n",
    "    for i in sortindex:\n",
    "        \n",
    "    # 不含有缺失值的属性不参与建模过程，否则在划分训练集和测试集时，Xtest、Ytest没有样本，会报错！\n",
    "        if X_missing_fillna.loc[:,i].isnull().sum() != 0:\n",
    "            df = X_missing_fillna\n",
    "            fillc = df.loc[:,i]\n",
    "            df = df.loc[:,df.columns != i]\n",
    "            \n",
    "            #在新特征矩阵中，对含有缺失值的列，进⾏0的填补\n",
    "            df_0 =SimpleImputer(missing_values=np.nan,\n",
    "            strategy='constant',fill_value=0).fit_transform(df)\n",
    "            \n",
    "            #找出我们的训练集和测试集\n",
    "            Ytrain = fillc[fillc.notnull()]\n",
    "            Ytest = fillc[fillc.isnull()]\n",
    "            Xtrain = df_0[Ytrain.index,:]\n",
    "            Xtest = df_0[Ytest.index,:]\n",
    "            \n",
    "            #⽤随机森林回归来填补缺失值\n",
    "            rfc = model\n",
    "            rfc = rfc.fit(Xtrain, Ytrain)\n",
    "            Ypredict = rfc.predict(Xtest)\n",
    "            \n",
    "            # 将预测的缺失值放回原数据集中\n",
    "            X_missing_fillna.loc[Ytest.index,Ytest.name] = Ypredict\n",
    "        \n",
    "    # 遍历完所有属性后，返回填补好缺失值的数据集\n",
    "    return X_missing_fillna"
   ]
  },
  {
   "cell_type": "markdown",
   "id": "df4e9a4b-5340-44fb-8d78-018982fe9984",
   "metadata": {},
   "source": [
    "策略一：当大部分属性都存在缺失值时："
   ]
  },
  {
   "cell_type": "markdown",
   "id": "81b8b0b0-9f0c-4c33-9f33-83bb91e2970e",
   "metadata": {},
   "source": [
    "对于⼀个有n个特征的数据来说，其中某些特征有缺失值，那我们进⾏缺失值的拟合，需要考虑三个问题：\n",
    "- 1、填补顺序问题：如果多个属性含有缺失值，先填补哪⼀个？其他还未填补的缺失值也⽆法⽤于建模怎么办？\n",
    "    - 遍历所有的特征，从缺失最少的开始进⾏填补（因为填补缺失最少的特征所需要的准确信息最少）。\n",
    "    - 插补⼀个特征时，先将其他特征的缺失值⽤0代替。\n",
    "    - 每完成⼀次插补，更新特征矩阵，使当前填补好的特征参与到下⼀个特征的填补预测中。\n",
    "    - 遍历所有的特征后，数据就完整，不再有缺失值了\n",
    "- 2、特征矩阵和标签的选择：\n",
    "    - 我们就把当前待填补的不完整属性当作标签\n",
    "    - 其他的n-1个特征和原本的标签组成新的特征矩阵\n",
    "- 3、训练集和测试集的划分：\n",
    "- 训练集：当前待插补的不完整属性的⾮缺失值所对应的样本，就构成了我们训练集,这部分数据既有标签也有特征:\n",
    "    - Y_train:由当前不完整属性中的⾮缺失值构成\n",
    "    - X_train:由当前不完整属性中的⾮缺失值所对应的所有样本点的除缺失属性之外的其他列构成（包括原本的标签列）\n",
    "    - 测试集：当前待插补的不完整属性的缺失值所对应的样本，就构成了我们测试集,这部分数据只有特征没有标签：\n",
    "    - Y_test:由当前不完整属性的所有缺失值构成，全部是Nan,也就是我们需要预测的部分~\n",
    "    - X_test:由当前不完整属性中的缺失值所对应的所有样本点的除缺失属性之外的其他列构成（包括原本的标签列）\n",
    "      \n",
    "每⼀次回归或者分类任务可以理解成：将缺失属性与标签列调换了⼀下\"身份\"！重新构建特征矩阵：\n",
    "- 将原本的标签列作为了特征\n",
    "- 将原本含有缺失值的特征（不完整属性）作为了标签列\n",
    "- 对于重新构建的特征矩阵进⾏机器学习！"
   ]
  },
  {
   "cell_type": "code",
   "execution_count": 94,
   "id": "6eaf233e-b9e1-4c33-9bfc-a041fc219e9c",
   "metadata": {},
   "outputs": [],
   "source": [
    "# 使⽤KNN回归填补缺失值\n",
    "fill_knn_reg0 = fill_na_mths0(data_missing,model = KNeighborsRegressor())\n",
    "# 使⽤决策树回归填补缺失值\n",
    "fill_dt_reg0 = fill_na_mths0(data_missing,model =DecisionTreeRegressor())\n",
    "# 使⽤随机森填补缺失值\n",
    "fill_rf_reg0 = fill_na_mths0(data_missing,model = RandomForestRegressor())\n",
    "# 使⽤SVR填补缺失值\n",
    "fill_svr_reg0 = fill_na_mths0(data_missing,model = SVR())"
   ]
  },
  {
   "cell_type": "markdown",
   "id": "90fccb1c-3d5a-485b-b79d-a6f777b2649c",
   "metadata": {},
   "source": [
    "查看插补前后数据集变化情况："
   ]
  },
  {
   "cell_type": "code",
   "execution_count": 95,
   "id": "dbb2e6a4-b437-4e2b-a394-c1d10e497ff3",
   "metadata": {},
   "outputs": [
    {
     "data": {
      "text/plain": [
       "Index(['2小时耐量试验值', '舒张压', '三头肌皮褶厚度', '2小时血清胰岛素浓度'], dtype='object')"
      ]
     },
     "execution_count": 95,
     "metadata": {},
     "output_type": "execute_result"
    }
   ],
   "source": [
    "# 缺失属性的列名\n",
    "null_index = data_missing.isnull().sum()[data_missing.isnull().sum() != 0].index\n",
    "null_index"
   ]
  },
  {
   "cell_type": "code",
   "execution_count": 96,
   "id": "c5c6d1ef-7eaa-48f3-a063-0802c311ce29",
   "metadata": {},
   "outputs": [
    {
     "data": {
      "text/plain": [
       "2小时耐量试验值     -0.002505\n",
       "舒张压          -0.002208\n",
       "三头肌皮褶厚度       0.000547\n",
       "2小时血清胰岛素浓度   -0.029122\n",
       "dtype: float64"
      ]
     },
     "execution_count": 96,
     "metadata": {},
     "output_type": "execute_result"
    }
   ],
   "source": [
    "# 统计量/固定值占位后 KNN回归迭代填充后 与填补前原始数据的统计量变化对⽐\n",
    "(fill_knn_reg0[null_index].mean() -\n",
    "data_missing[null_index].mean())/data_missing[null_index].mean()"
   ]
  },
  {
   "cell_type": "code",
   "execution_count": 97,
   "id": "3c73cb7e-525e-444b-bddb-745c74ce18df",
   "metadata": {},
   "outputs": [
    {
     "data": {
      "text/plain": [
       "2小时耐量试验值      0.165030\n",
       "舒张压           0.372959\n",
       "三头肌皮褶厚度      -0.185604\n",
       "2小时血清胰岛素浓度   -1.139023\n",
       "dtype: float64"
      ]
     },
     "execution_count": 97,
     "metadata": {},
     "output_type": "execute_result"
    }
   ],
   "source": [
    "# 统计量/固定值占位后 决策树回归迭代填充后 与填补前原始数据的统计量变化对⽐\n",
    "fill_dt_reg0[null_index].mean() - data_missing[null_index].mean()"
   ]
  },
  {
   "cell_type": "code",
   "execution_count": 98,
   "id": "bbf5a7b1-87f1-4e7c-9247-0b1cfb113a2c",
   "metadata": {},
   "outputs": [
    {
     "data": {
      "text/plain": [
       "2小时耐量试验值     -0.455779\n",
       "舒张压           0.239517\n",
       "三头肌皮褶厚度      -0.028499\n",
       "2小时血清胰岛素浓度   -0.819448\n",
       "dtype: float64"
      ]
     },
     "execution_count": 98,
     "metadata": {},
     "output_type": "execute_result"
    }
   ],
   "source": [
    "# 统计量/固定值占位后 随机森林回归迭代填充后 与填补前原始数据的统计量变化对⽐\n",
    "fill_rf_reg0[null_index].mean() - data_missing[null_index].mean()"
   ]
  },
  {
   "cell_type": "code",
   "execution_count": 99,
   "id": "3aace649-5c47-4ef4-b2ef-85473172fb6f",
   "metadata": {},
   "outputs": [
    {
     "data": {
      "text/plain": [
       "2小时耐量试验值     -1.024274\n",
       "舒张压          -0.080539\n",
       "三头肌皮褶厚度       0.018135\n",
       "2小时血清胰岛素浓度   -8.067538\n",
       "dtype: float64"
      ]
     },
     "execution_count": 99,
     "metadata": {},
     "output_type": "execute_result"
    }
   ],
   "source": [
    "# 统计量/固定值占位后 ⽀持向量机回归迭代填充后 与填补前原始数据的统计量变化对⽐\n",
    "fill_svr_reg0[null_index].mean() - data_missing[null_index].mean()"
   ]
  },
  {
   "cell_type": "markdown",
   "id": "d59c7d1d-a172-4d77-849b-011d93c7d22b",
   "metadata": {},
   "source": [
    "策略二：当大部分属性都存在缺失值时："
   ]
  },
  {
   "cell_type": "markdown",
   "id": "ccdd8f69-40f2-4211-a73b-566bb060e18f",
   "metadata": {},
   "source": [
    "填补顺序问题：如果多个属性含有缺失值，先填补哪⼀个？其他还未填补的缺失值也⽆法⽤于建模怎么办？\n",
    "- 将完整属性和缺失属性分开\n",
    "- 对于不完整属性，按照缺失值的从少到多进⾏排序，从缺失最少的开始进⾏填补（填补缺失最少的特征所需要的准确信息最少）。\n",
    "- 第⼀个待填补缺失值的属性作为标签列，其他完整属性和原始标签列作为特征矩阵。其他含有缺失值的属性不参与计算！\n",
    "- 插补完第⼀个特征时，更新特征矩阵，使当前填补好的特征参与到下⼀个特征的填补预测中。\n",
    "- 每完成⼀个不完整属性的缺失值拟合插补，就将其放回到原始数据集中去，并参与到下⼀个不完整属性缺失值的拟合计算中。\n",
    "- 遍历所有带有缺失值的属性后，数据就完整，不再有缺失值了。"
   ]
  },
  {
   "cell_type": "code",
   "execution_count": 100,
   "id": "ea2babee-7df3-42a2-a205-3f3f5cd24423",
   "metadata": {},
   "outputs": [],
   "source": [
    "# 划分完整和不完整属性后的不完整属性遍历填补\n",
    "def fill_na_mths1(data_missing,model):\n",
    "    \n",
    "    # 1、创建特征矩阵\n",
    "    X_missing_fillna = data_missing.copy()\n",
    "    \n",
    "    # 2、将完整属性和不完整属性区分开来\n",
    "    # 选择按列进⾏缺失值统计后，统计值为0的属性名，作为完整初始完整属性\n",
    "    full_feat_index = X_missing_fillna.isnull().sum()[X_missing_fillna.isnull().sum() ==0].index\n",
    "    full_feature = X_missing_fillna.loc[:,full_feat_index]\n",
    "    # 选择按列进⾏缺失值统计后，统计值不为0的属性名，作为待填补缺失值的属性\n",
    "    null_index =X_missing_fillna.isnull().sum()[X_missing_fillna.isnull().sum() !=0].index\n",
    "    null_feature = X_missing_fillna.loc[:,null_index]\n",
    "    # 将不完整属性按照缺失值数量从⼩到⼤排列，并按照顺序输出其属性名称\n",
    "    null_index_sorted = null_feature.isnull().sum().sort_values().index\n",
    "    # 将不完整属性按照缺失值数量从⼩到⼤排列，并按照顺序输出其属性名称\n",
    "    null_index_sorted = null_feature.isnull().sum().index\n",
    "    # 逐个对不完整属性进⾏缺失值填补（顺序为从少到多）\n",
    "    for i in range(len(null_index_sorted)):\n",
    "        # 使⽤full_feature作为特征矩阵，使⽤缺失值最少的属性作为⽬标变量\n",
    "        x,y= full_feature,X_missing_fillna[null_index_sorted[i]]\n",
    "        #划分训练集和测试集\n",
    "        # 使⽤⽬标变量不为空的样本作为训练集，将所有⽬标变量为空的样本作为测试集\n",
    "        y_train = y[y.notnull()] # 筛选⽬标变量不为空的⽬标变量为训练集的⽬标变量\n",
    "        y_test = y[y.isnull()] # 筛选⽬标变量为空的⽬标变量为待预测值，将预测值作为缺失值的替代值\n",
    "        x_train = x[y.notnull()] # 筛选与训练集的⽬标变量索引⼀致的特征，作为⽤于模型训练的特征矩阵\n",
    "        x_test = x[y.isnull()] # 筛选与测试集的⽬标变量索引⼀致的特征，作为⽤于模型测试的特征矩阵\n",
    "        # ⽤机器学习算法填补缺失值\n",
    "        reg = model\n",
    "        reg = reg.fit(x_train,y_train)\n",
    "        y_pred = reg.predict(x_test)\n",
    "        # 将填补好的值放回原Dataframe中(下述⼏种从⽅式，任意⼀种均可，哪种⾃⼰觉得好理解，就⽤哪个)\n",
    "        X_missing_fillna.loc[y.isnull(),y.name] = y_pred.round(1)\n",
    "        #X_missing_fillna.loc[y_test.index,y_test.name] = y_pred\n",
    "        #X_missing_fillna.loc[y_test.index,null_index_sorted[i]] = y_pred\n",
    "        #X_missing_fillna.loc[X_missing_fillna.loc[:,null_index_sorted[0]].isnull(),null_index_sorted[0]] = y_pred\n",
    "        #X_missing_fillna.loc[X_missing_fillna[null_index_sorted[0]].isnull(),null_index_sorted[0]] = y_pred\n",
    "        # 将填补好的属性也⽤于下⼀个特征的缺失值预测\n",
    "        full_feature.loc[:,null_index_sorted[i]] = X_missing_fillna[null_index_sorted[i]]\n",
    "    return X_missing_fillna"
   ]
  },
  {
   "cell_type": "code",
   "execution_count": 101,
   "id": "9e21ac3c-55fc-4dc9-82f6-d9a26f809957",
   "metadata": {},
   "outputs": [
    {
     "data": {
      "text/plain": [
       "2小时耐量试验值     -0.453350\n",
       "舒张压           0.225651\n",
       "三头肌皮褶厚度      -0.021373\n",
       "2小时血清胰岛素浓度   -0.677262\n",
       "dtype: float64"
      ]
     },
     "execution_count": 101,
     "metadata": {},
     "output_type": "execute_result"
    }
   ],
   "source": [
    "# 统计量/固定值占位后 随机森林回归迭代填充\n",
    "fill_rf_reg0 = fill_na_mths0(data_missing,model =\n",
    "RandomForestRegressor(n_estimators=100))\n",
    "null_index = data_missing.isnull().sum()[data_missing.isnull().sum() != 0].index\n",
    "# 统计量/固定值占位后 随机森林回归迭代填充后 与填补前原始数据的统计量变化对⽐\n",
    "fill_rf_reg0[null_index].mean() - data_missing[null_index].mean()"
   ]
  },
  {
   "cell_type": "code",
   "execution_count": 102,
   "id": "f5e55ee6-1a31-444b-b9a4-8612d13f5b40",
   "metadata": {},
   "outputs": [
    {
     "data": {
      "text/plain": [
       "2小时耐量试验值     -0.560273\n",
       "舒张压           0.286319\n",
       "三头肌皮褶厚度      -0.091475\n",
       "2小时血清胰岛素浓度    0.508143\n",
       "dtype: float64"
      ]
     },
     "execution_count": 102,
     "metadata": {},
     "output_type": "execute_result"
    }
   ],
   "source": [
    "# 完整属性与不完整属性划分后 随机森林回归迭代填充\n",
    "fill_rf_reg1 = fill_na_mths1(data_missing,model = RandomForestRegressor(n_estimators=100))\n",
    "# 完整属性与不完整属性划分后 随机森林回归迭代填充后 与填补前原始数据的统计量变化对⽐\n",
    "fill_rf_reg1[null_index].mean() - data_missing[null_index].mean()"
   ]
  },
  {
   "cell_type": "code",
   "execution_count": 103,
   "id": "8ec6804b-7c6e-4666-a377-6998cee1004f",
   "metadata": {},
   "outputs": [
    {
     "data": {
      "text/plain": [
       "2小时耐量试验值     -1.024274\n",
       "舒张压          -0.080539\n",
       "三头肌皮褶厚度       0.018135\n",
       "2小时血清胰岛素浓度   -8.067538\n",
       "dtype: float64"
      ]
     },
     "execution_count": 103,
     "metadata": {},
     "output_type": "execute_result"
    }
   ],
   "source": [
    "# 固定值/统计量占位后 SVR迭代填补\n",
    "fill_svr_reg0 = fill_na_mths0(data_missing,model = SVR())\n",
    "fill_svr_reg0[null_index].mean() - data_missing[null_index].mean()"
   ]
  },
  {
   "cell_type": "code",
   "execution_count": 104,
   "id": "7a3d18aa-4093-4f91-bba4-ab81fd88464f",
   "metadata": {},
   "outputs": [
    {
     "data": {
      "text/plain": [
       "2小时耐量试验值     -1.026872\n",
       "舒张压          -0.131292\n",
       "三头肌皮褶厚度      -0.031151\n",
       "2小时血清胰岛素浓度   -7.476675\n",
       "dtype: float64"
      ]
     },
     "execution_count": 104,
     "metadata": {},
     "output_type": "execute_result"
    }
   ],
   "source": [
    "# 完整属性与不完整属性划分后 SVR迭代填补\n",
    "fill_svr_reg = fill_na_mths1(data_missing,model = SVR())\n",
    "fill_svr_reg[null_index].mean() - data_missing[null_index].mean()"
   ]
  },
  {
   "cell_type": "markdown",
   "id": "44ea1e8c-df86-4d01-8011-03511fb8e3e2",
   "metadata": {},
   "source": [
    "#### 3.多重插补"
   ]
  },
  {
   "cell_type": "markdown",
   "id": "682fddd3-d4f2-449e-9963-77b5dd50bf6e",
   "metadata": {},
   "source": [
    "&emsp;&emsp;多重插补是针对缺失数据不确定性的填补⽅法。由于缺失值是数据集中的未知因素，在⼀定程度上导致了分析结果不\n",
    "确定。针对缺失数据的不确定问题，多重插补⽅法将不完整数据分析过程分为填补、分析和合并3个阶段。通过执⾏\n",
    "多次填补得到若⼲组填补值，在此基础上求解多个分析结果并对这些结果实⾏有效合并。相⽐单⼀填补，多重填补合\n",
    "理考虑和缺失值不确定性对分析结果造成的影响，从⽽获得更为合理的推断。\n",
    "多重填补法是指，利⽤不完整数据集中的现有数据对缺失值进⾏多次填补，由此⽣成多个完整数据集的填补⽅法。基\n",
    "于多重填补法的不完整数据分析过程下图所示："
   ]
  },
  {
   "cell_type": "markdown",
   "id": "5d1fb1ea-696d-4be0-9e24-bf0f1192964f",
   "metadata": {},
   "source": [
    "<center><img src=\"https://s2.loli.net/2022/01/12/XjU7tqkNexJzuZW.png\" alt=\"image-20220112183648135\" style=\"zoom:50%;\" />"
   ]
  },
  {
   "cell_type": "markdown",
   "id": "1d894474-c1e1-4ae2-98e1-fa3a0004164d",
   "metadata": {},
   "source": [
    "1、基于随机⼲扰的多重插补        \n",
    "&emsp;&emsp;基于随机⼲扰项的多重填补法在单⼀填补法所求填补值的基础上引⼊随机⼲扰项，进⽽获得多组不同的填补结果。在\n",
    "此⽅式下，所得填补值受初始填补值的影响较⼤，若初始填补值不准确，则求得的⼀系列填补值都会存在相应的估计\n",
    "误差。        \n",
    "2、⻉叶斯多重插补        \n",
    "&emsp;&emsp;相⽐于引⼊随机⼲扰项，⼀种更有效的处理思路是在填补模型的求解过程中引⼊随机性，通过构建随机的线性模型展\n",
    "开多次填补。⻉叶斯多重填补法正是基于此思路实现的填补⽅法，其利⽤⻉叶斯理论求解填补模型的参数，使模型参\n",
    "数来⾃后验分布的随机抽取，从⽽为模型引⼊随机性。⻉叶斯估计多重插补认为待插补的值是随机的，它的值来⾃于\n",
    "已观测到的值。具体实践上通常是估计出待插补的值，然后再加上不同的噪声，形成多组可选插补值。根据某种选择\n",
    "依据，选取最合适的插补值。        \n",
    "3、基于重采样的多重插补        \n",
    "&emsp;&emsp;重采样（Resampling）是指从样本总体中提取部分样本，在此基础上进⾏统计量估计或其他推断的⼀类⽅法。每次\n",
    "重采样得到的样本集合可视为对样本总体的局部描述，不同局部描述下求得的填补模型往往不同，由其求解的填补值\n",
    "也存在差异，因此，可利⽤重采样获得多组不同的填补结果，进⽽实现多重填补。"
   ]
  },
  {
   "cell_type": "markdown",
   "id": "dc662a7f-3325-40d2-91d9-0349d4932b79",
   "metadata": {},
   "source": [
    "- 基于随机森林的链式⽅程多重插补—miceforest"
   ]
  },
  {
   "cell_type": "markdown",
   "id": "a3aaa21c-0646-4486-b184-85ea89dc96ca",
   "metadata": {},
   "source": [
    "&emsp;&emsp;除了上述的三种经典多重插补⽅法，⽬前⽐较流⾏的是多种传统多重插补⽅法结合使⽤的改进版多重插补⽅法。我们\n",
    "可以使⽤链式⽅程式的多重插补（MICE，Multiple Imputation by Chained Equations）来估算缺失值，从技术上\n",
    "讲，任何能够推理的预测模型都可以⽤于MICE。凡是看到链式⽅程，那⼀定是具有快速、内存利⽤率⾼的特征。        \n",
    "&emsp;&emsp;链式⽅程式多重插补中，我们最常⽤、最便利的⽅式是使⽤miceforest库进⾏随机森林的链式⽅程式多重插补。它继\n",
    "承了MICE原理优良的迭代填补策略，并基于相关性收敛诊断迭代次数设置的合理性，使MICE在应⽤实践⽅⾯有更⼤\n",
    "的可能性。且在miceforest的使⽤的过程中，⽆需复杂的参数设置即可完成缺失的分类和连续数据的缺失值单⼀或多\n",
    "重插补，miceforest还提供了⼀系列可⽤的诊断图形⼯具，可以为我们的填补策略提供⼀定的指导。"
   ]
  },
  {
   "cell_type": "markdown",
   "id": "659fd721-f99a-47ba-b109-191934fafbe1",
   "metadata": {},
   "source": [
    "<center>\n",
    "\n",
    "<img src=\"https://s2.loli.net/2022/01/12/lDrQNSauf1IHEcb.png\" alt=\"image-20220112184113253\" style=\"zoom:50%;\" />"
   ]
  },
  {
   "cell_type": "markdown",
   "id": "15ce7882-82d6-4140-9bfe-e0f9b2b28e36",
   "metadata": {},
   "source": [
    "重复迭代，直至相关性收敛"
   ]
  },
  {
   "cell_type": "code",
   "execution_count": 139,
   "id": "be30003b-28e6-486d-a2f3-346780d77045",
   "metadata": {},
   "outputs": [
    {
     "data": {
      "text/plain": [
       "怀孕次数          0\n",
       "2小时耐量试验值      0\n",
       "舒张压           0\n",
       "三头肌皮褶厚度       0\n",
       "2小时血清胰岛素浓度    0\n",
       "BMI           0\n",
       "遗传函数          0\n",
       "age           0\n",
       "是否患病          0\n",
       "dtype: int64"
      ]
     },
     "execution_count": 139,
     "metadata": {},
     "output_type": "execute_result"
    }
   ],
   "source": [
    "# 1、导⼊必要的库\n",
    "import miceforest as mf \n",
    "import pandas as pd\n",
    "import numpy as np\n",
    "import seaborn as sns\n",
    "from sklearn.neighbors import KNeighborsClassifier,KNeighborsRegressor\n",
    "from sklearn.ensemble import RandomForestRegressor, RandomForestClassifier\n",
    "from sklearn.tree import DecisionTreeRegressor\n",
    "from sklearn.linear_model import LinearRegression\n",
    "from sklearn.svm import SVR\n",
    "sns.set(font='SimHei',font_scale=1.5) # windows⽤户解决Seaborn中⽂显示问题\n",
    "sns.set(font='Arial Unicode MS',font_scale=0.7) # mac⽤户解决Seaborn中⽂显示问题\n",
    "plt.rcParams['font.sans-serif'] = ['Arial Unicode MS'] # ⽤来正常显示中⽂标签\n",
    "plt.rcParams['axes.unicode_minus'] = False # ⽤来正常显示负号\n",
    "# 2、导⼊数据\n",
    "data = pd.read_csv(\"pima2.csv\")\n",
    "data.isnull().sum() # 查看数据缺失值情况"
   ]
  },
  {
   "cell_type": "markdown",
   "id": "bcc1ca44-2a5b-4487-b90e-d4b85e466195",
   "metadata": {},
   "source": [
    "数据准备："
   ]
  },
  {
   "cell_type": "markdown",
   "id": "32bf9ce5-f57b-4516-aa89-dff8f4f9924a",
   "metadata": {},
   "source": [
    "使用miceforest进行缺失值填补："
   ]
  },
  {
   "cell_type": "code",
   "execution_count": 140,
   "id": "fce02ee2-d953-44a0-830d-4a4fc15ade48",
   "metadata": {},
   "outputs": [
    {
     "data": {
      "text/plain": [
       "怀孕次数            0\n",
       "2小时耐量试验值      123\n",
       "舒张压           123\n",
       "三头肌皮褶厚度       123\n",
       "2小时血清胰岛素浓度    123\n",
       "BMI             0\n",
       "遗传函数            0\n",
       "age             0\n",
       "是否患病            0\n",
       "dtype: int64"
      ]
     },
     "execution_count": 140,
     "metadata": {},
     "output_type": "execute_result"
    }
   ],
   "source": [
    "df = mf.ampute_data(data.iloc[:,1:5],\n",
    "               perc = 0.25,\n",
    "              random_state=0)\n",
    "data_missing0 = data.copy()\n",
    "data_missing0.loc[:,df.columns] = df\n",
    "data_missing0.isnull().sum()"
   ]
  },
  {
   "cell_type": "code",
   "execution_count": 141,
   "id": "6d4ac604-3513-4c5d-be85-0bbe206699ea",
   "metadata": {},
   "outputs": [
    {
     "data": {
      "text/plain": [
       "怀孕次数            0\n",
       "2小时耐量试验值      115\n",
       "舒张压           109\n",
       "三头肌皮褶厚度        96\n",
       "2小时血清胰岛素浓度    122\n",
       "BMI             0\n",
       "遗传函数            0\n",
       "age             0\n",
       "是否患病            0\n",
       "dtype: int64"
      ]
     },
     "execution_count": 141,
     "metadata": {},
     "output_type": "execute_result"
    }
   ],
   "source": [
    "# 用自定义函数随机插入缺失值\n",
    "data_missing0 = missing_data_generate(data)(\n",
    "      missing_rate = 0.25,                  # 插入缺失值比例0.25\n",
    "      missing_columns = data.columns[1:5],  # 给1-5列插入缺失值，其他的不插入缺失值\n",
    "      random_states = 0)        \n",
    "data_missing0.isnull().sum()"
   ]
  },
  {
   "cell_type": "code",
   "execution_count": 5,
   "id": "c6ff3445-a059-4580-929a-f7d8d4f65d55",
   "metadata": {},
   "outputs": [
    {
     "data": {
      "text/html": [
       "<div>\n",
       "<style scoped>\n",
       "    .dataframe tbody tr th:only-of-type {\n",
       "        vertical-align: middle;\n",
       "    }\n",
       "\n",
       "    .dataframe tbody tr th {\n",
       "        vertical-align: top;\n",
       "    }\n",
       "\n",
       "    .dataframe thead th {\n",
       "        text-align: right;\n",
       "    }\n",
       "</style>\n",
       "<table border=\"1\" class=\"dataframe\">\n",
       "  <thead>\n",
       "    <tr style=\"text-align: right;\">\n",
       "      <th></th>\n",
       "      <th>怀孕次数</th>\n",
       "      <th>2小时耐量试验值</th>\n",
       "      <th>舒张压</th>\n",
       "      <th>三头肌皮褶厚度</th>\n",
       "      <th>2小时血清胰岛素浓度</th>\n",
       "      <th>BMI</th>\n",
       "      <th>遗传函数</th>\n",
       "      <th>age</th>\n",
       "      <th>是否患病</th>\n",
       "    </tr>\n",
       "  </thead>\n",
       "  <tbody>\n",
       "    <tr>\n",
       "      <th>0</th>\n",
       "      <td>1</td>\n",
       "      <td>108.0</td>\n",
       "      <td>66.0</td>\n",
       "      <td>23.0</td>\n",
       "      <td>94.0</td>\n",
       "      <td>28.1</td>\n",
       "      <td>0.167</td>\n",
       "      <td>21</td>\n",
       "      <td>0</td>\n",
       "    </tr>\n",
       "    <tr>\n",
       "      <th>1</th>\n",
       "      <td>0</td>\n",
       "      <td>137.0</td>\n",
       "      <td>40.0</td>\n",
       "      <td>35.0</td>\n",
       "      <td>168.0</td>\n",
       "      <td>43.1</td>\n",
       "      <td>2.288</td>\n",
       "      <td>33</td>\n",
       "      <td>1</td>\n",
       "    </tr>\n",
       "    <tr>\n",
       "      <th>2</th>\n",
       "      <td>3</td>\n",
       "      <td>78.0</td>\n",
       "      <td>50.0</td>\n",
       "      <td>32.0</td>\n",
       "      <td>88.0</td>\n",
       "      <td>31.0</td>\n",
       "      <td>0.248</td>\n",
       "      <td>26</td>\n",
       "      <td>1</td>\n",
       "    </tr>\n",
       "    <tr>\n",
       "      <th>3</th>\n",
       "      <td>2</td>\n",
       "      <td>155.0</td>\n",
       "      <td>70.0</td>\n",
       "      <td>23.0</td>\n",
       "      <td>200.0</td>\n",
       "      <td>30.5</td>\n",
       "      <td>0.158</td>\n",
       "      <td>53</td>\n",
       "      <td>1</td>\n",
       "    </tr>\n",
       "    <tr>\n",
       "      <th>4</th>\n",
       "      <td>1</td>\n",
       "      <td>189.0</td>\n",
       "      <td>78.0</td>\n",
       "      <td>23.0</td>\n",
       "      <td>285.0</td>\n",
       "      <td>30.1</td>\n",
       "      <td>0.398</td>\n",
       "      <td>59</td>\n",
       "      <td>1</td>\n",
       "    </tr>\n",
       "    <tr>\n",
       "      <th>...</th>\n",
       "      <td>...</td>\n",
       "      <td>...</td>\n",
       "      <td>...</td>\n",
       "      <td>...</td>\n",
       "      <td>...</td>\n",
       "      <td>...</td>\n",
       "      <td>...</td>\n",
       "      <td>...</td>\n",
       "      <td>...</td>\n",
       "    </tr>\n",
       "    <tr>\n",
       "      <th>489</th>\n",
       "      <td>10</td>\n",
       "      <td>148.0</td>\n",
       "      <td>84.0</td>\n",
       "      <td>48.0</td>\n",
       "      <td>237.0</td>\n",
       "      <td>37.6</td>\n",
       "      <td>1.001</td>\n",
       "      <td>51</td>\n",
       "      <td>1</td>\n",
       "    </tr>\n",
       "    <tr>\n",
       "      <th>490</th>\n",
       "      <td>8</td>\n",
       "      <td>124.0</td>\n",
       "      <td>76.0</td>\n",
       "      <td>24.0</td>\n",
       "      <td>231.0</td>\n",
       "      <td>28.7</td>\n",
       "      <td>0.687</td>\n",
       "      <td>52</td>\n",
       "      <td>1</td>\n",
       "    </tr>\n",
       "    <tr>\n",
       "      <th>491</th>\n",
       "      <td>10</td>\n",
       "      <td>125.0</td>\n",
       "      <td>70.0</td>\n",
       "      <td>26.0</td>\n",
       "      <td>115.0</td>\n",
       "      <td>31.1</td>\n",
       "      <td>0.205</td>\n",
       "      <td>41</td>\n",
       "      <td>1</td>\n",
       "    </tr>\n",
       "    <tr>\n",
       "      <th>492</th>\n",
       "      <td>1</td>\n",
       "      <td>181.0</td>\n",
       "      <td>64.0</td>\n",
       "      <td>30.0</td>\n",
       "      <td>342.0</td>\n",
       "      <td>34.1</td>\n",
       "      <td>0.328</td>\n",
       "      <td>38</td>\n",
       "      <td>1</td>\n",
       "    </tr>\n",
       "    <tr>\n",
       "      <th>493</th>\n",
       "      <td>6</td>\n",
       "      <td>119.0</td>\n",
       "      <td>50.0</td>\n",
       "      <td>22.0</td>\n",
       "      <td>125.0</td>\n",
       "      <td>27.1</td>\n",
       "      <td>1.318</td>\n",
       "      <td>33</td>\n",
       "      <td>1</td>\n",
       "    </tr>\n",
       "  </tbody>\n",
       "</table>\n",
       "<p>494 rows × 9 columns</p>\n",
       "</div>"
      ],
      "text/plain": [
       "     怀孕次数  2小时耐量试验值   舒张压  三头肌皮褶厚度  2小时血清胰岛素浓度   BMI   遗传函数  age  是否患病\n",
       "0       1     108.0  66.0     23.0        94.0  28.1  0.167   21     0\n",
       "1       0     137.0  40.0     35.0       168.0  43.1  2.288   33     1\n",
       "2       3      78.0  50.0     32.0        88.0  31.0  0.248   26     1\n",
       "3       2     155.0  70.0     23.0       200.0  30.5  0.158   53     1\n",
       "4       1     189.0  78.0     23.0       285.0  30.1  0.398   59     1\n",
       "..    ...       ...   ...      ...         ...   ...    ...  ...   ...\n",
       "489    10     148.0  84.0     48.0       237.0  37.6  1.001   51     1\n",
       "490     8     124.0  76.0     24.0       231.0  28.7  0.687   52     1\n",
       "491    10     125.0  70.0     26.0       115.0  31.1  0.205   41     1\n",
       "492     1     181.0  64.0     30.0       342.0  34.1  0.328   38     1\n",
       "493     6     119.0  50.0     22.0       125.0  27.1  1.318   33     1\n",
       "\n",
       "[494 rows x 9 columns]"
      ]
     },
     "execution_count": 5,
     "metadata": {},
     "output_type": "execute_result"
    }
   ],
   "source": [
    "kds = mf.KernelDataSet(\n",
    "      data_missing0,\n",
    "      save_all_iterations=True,\n",
    "      random_state=10\n",
    "    )\n",
    "kds.mice(iterations = 3,\n",
    "        n_jobs = 2)\n",
    "\n",
    "complate_data = kds.complete_data()\n",
    "complate_data"
   ]
  },
  {
   "cell_type": "code",
   "execution_count": 6,
   "id": "aa85a3d9-90de-4ce7-80d2-db09193ed5a5",
   "metadata": {},
   "outputs": [
    {
     "data": {
      "text/plain": [
       "怀孕次数          0\n",
       "2小时耐量试验值      0\n",
       "舒张压           0\n",
       "三头肌皮褶厚度       0\n",
       "2小时血清胰岛素浓度    0\n",
       "BMI           0\n",
       "遗传函数          0\n",
       "age           0\n",
       "是否患病          0\n",
       "dtype: int64"
      ]
     },
     "execution_count": 6,
     "metadata": {},
     "output_type": "execute_result"
    }
   ],
   "source": [
    "complate_data.isnull().sum()"
   ]
  },
  {
   "cell_type": "code",
   "execution_count": 7,
   "id": "a831257c-7ed4-49d9-a74d-caa6a084aa67",
   "metadata": {},
   "outputs": [
    {
     "data": {
      "text/plain": [
       "怀孕次数          0.000000\n",
       "2小时耐量试验值      0.167055\n",
       "舒张压          -0.112871\n",
       "三头肌皮褶厚度      -0.313134\n",
       "2小时血清胰岛素浓度   -3.584367\n",
       "BMI           0.000000\n",
       "遗传函数          0.000000\n",
       "age           0.000000\n",
       "是否患病          0.000000\n",
       "dtype: float64"
      ]
     },
     "execution_count": 7,
     "metadata": {},
     "output_type": "execute_result"
    }
   ],
   "source": [
    "complate_data.mean() - data_missing0.mean()"
   ]
  },
  {
   "cell_type": "code",
   "execution_count": 9,
   "id": "9562e7fc-26df-4a27-b7a8-cbabe9a6fb37",
   "metadata": {},
   "outputs": [
    {
     "name": "stdout",
     "output_type": "stream",
     "text": [
      "              Class: MultipleImputedKernel\n",
      "       Models Saved: Last Iteration\n",
      "           Datasets: 4\n",
      "         Iterations: 5\n",
      "  Imputed Variables: 4\n",
      "save_all_iterations: True\n"
     ]
    }
   ],
   "source": [
    "# 3-2多重插补 ：使用MultipleImputedKernel实例化多重插补对象\t\n",
    "kernel = mf.MultipleImputedKernel(\n",
    "  data_missing0,\n",
    "  datasets = 4,\n",
    "  save_all_iterations=True,\n",
    "  save_models =1,\n",
    "  random_state=10\n",
    ")\n",
    "\n",
    "# Run the MICE algorithm for 3 iterations on each of the datasets\n",
    "kernel.mice(iterations= 5,\n",
    "            #n_jobs=2\n",
    "           )\n",
    "\n",
    "print(kernel)"
   ]
  },
  {
   "cell_type": "code",
   "execution_count": 10,
   "id": "80b6fe93-a24a-4871-8595-41c0cc0f8241",
   "metadata": {},
   "outputs": [
    {
     "name": "stdout",
     "output_type": "stream",
     "text": [
      "              Class: MultipleImputedDataSet\n",
      "           Datasets: 4\n",
      "         Iterations: 5\n",
      "  Imputed Variables: 4\n",
      "save_all_iterations: False\n"
     ]
    }
   ],
   "source": [
    "# 四、使用现有的模型来插补新数据\n",
    "\n",
    "# 生成多重插补后的多个数据集\n",
    "new_data_imputed = kernel.impute_new_data(data_missing0)\n",
    "print(new_data_imputed)"
   ]
  },
  {
   "cell_type": "code",
   "execution_count": 11,
   "id": "dbc1bad9-2bc4-4ba0-be98-1456fa43e319",
   "metadata": {},
   "outputs": [
    {
     "data": {
      "text/html": [
       "<div>\n",
       "<style scoped>\n",
       "    .dataframe tbody tr th:only-of-type {\n",
       "        vertical-align: middle;\n",
       "    }\n",
       "\n",
       "    .dataframe tbody tr th {\n",
       "        vertical-align: top;\n",
       "    }\n",
       "\n",
       "    .dataframe thead th {\n",
       "        text-align: right;\n",
       "    }\n",
       "</style>\n",
       "<table border=\"1\" class=\"dataframe\">\n",
       "  <thead>\n",
       "    <tr style=\"text-align: right;\">\n",
       "      <th></th>\n",
       "      <th>怀孕次数</th>\n",
       "      <th>2小时耐量试验值</th>\n",
       "      <th>舒张压</th>\n",
       "      <th>三头肌皮褶厚度</th>\n",
       "      <th>2小时血清胰岛素浓度</th>\n",
       "      <th>BMI</th>\n",
       "      <th>遗传函数</th>\n",
       "      <th>age</th>\n",
       "      <th>是否患病</th>\n",
       "    </tr>\n",
       "  </thead>\n",
       "  <tbody>\n",
       "    <tr>\n",
       "      <th>0</th>\n",
       "      <td>1</td>\n",
       "      <td>84.0</td>\n",
       "      <td>66.0</td>\n",
       "      <td>23.0</td>\n",
       "      <td>94.0</td>\n",
       "      <td>28.1</td>\n",
       "      <td>0.167</td>\n",
       "      <td>21</td>\n",
       "      <td>0</td>\n",
       "    </tr>\n",
       "    <tr>\n",
       "      <th>1</th>\n",
       "      <td>0</td>\n",
       "      <td>137.0</td>\n",
       "      <td>40.0</td>\n",
       "      <td>35.0</td>\n",
       "      <td>168.0</td>\n",
       "      <td>43.1</td>\n",
       "      <td>2.288</td>\n",
       "      <td>33</td>\n",
       "      <td>1</td>\n",
       "    </tr>\n",
       "    <tr>\n",
       "      <th>2</th>\n",
       "      <td>3</td>\n",
       "      <td>78.0</td>\n",
       "      <td>50.0</td>\n",
       "      <td>32.0</td>\n",
       "      <td>88.0</td>\n",
       "      <td>31.0</td>\n",
       "      <td>0.248</td>\n",
       "      <td>26</td>\n",
       "      <td>1</td>\n",
       "    </tr>\n",
       "    <tr>\n",
       "      <th>3</th>\n",
       "      <td>2</td>\n",
       "      <td>148.0</td>\n",
       "      <td>70.0</td>\n",
       "      <td>31.0</td>\n",
       "      <td>370.0</td>\n",
       "      <td>30.5</td>\n",
       "      <td>0.158</td>\n",
       "      <td>53</td>\n",
       "      <td>1</td>\n",
       "    </tr>\n",
       "    <tr>\n",
       "      <th>4</th>\n",
       "      <td>1</td>\n",
       "      <td>189.0</td>\n",
       "      <td>66.0</td>\n",
       "      <td>23.0</td>\n",
       "      <td>328.0</td>\n",
       "      <td>30.1</td>\n",
       "      <td>0.398</td>\n",
       "      <td>59</td>\n",
       "      <td>1</td>\n",
       "    </tr>\n",
       "    <tr>\n",
       "      <th>...</th>\n",
       "      <td>...</td>\n",
       "      <td>...</td>\n",
       "      <td>...</td>\n",
       "      <td>...</td>\n",
       "      <td>...</td>\n",
       "      <td>...</td>\n",
       "      <td>...</td>\n",
       "      <td>...</td>\n",
       "      <td>...</td>\n",
       "    </tr>\n",
       "    <tr>\n",
       "      <th>489</th>\n",
       "      <td>10</td>\n",
       "      <td>148.0</td>\n",
       "      <td>84.0</td>\n",
       "      <td>48.0</td>\n",
       "      <td>237.0</td>\n",
       "      <td>37.6</td>\n",
       "      <td>1.001</td>\n",
       "      <td>51</td>\n",
       "      <td>1</td>\n",
       "    </tr>\n",
       "    <tr>\n",
       "      <th>490</th>\n",
       "      <td>8</td>\n",
       "      <td>124.0</td>\n",
       "      <td>70.0</td>\n",
       "      <td>24.0</td>\n",
       "      <td>270.0</td>\n",
       "      <td>28.7</td>\n",
       "      <td>0.687</td>\n",
       "      <td>52</td>\n",
       "      <td>1</td>\n",
       "    </tr>\n",
       "    <tr>\n",
       "      <th>491</th>\n",
       "      <td>10</td>\n",
       "      <td>125.0</td>\n",
       "      <td>70.0</td>\n",
       "      <td>26.0</td>\n",
       "      <td>115.0</td>\n",
       "      <td>31.1</td>\n",
       "      <td>0.205</td>\n",
       "      <td>41</td>\n",
       "      <td>1</td>\n",
       "    </tr>\n",
       "    <tr>\n",
       "      <th>492</th>\n",
       "      <td>1</td>\n",
       "      <td>181.0</td>\n",
       "      <td>64.0</td>\n",
       "      <td>30.0</td>\n",
       "      <td>145.0</td>\n",
       "      <td>34.1</td>\n",
       "      <td>0.328</td>\n",
       "      <td>38</td>\n",
       "      <td>1</td>\n",
       "    </tr>\n",
       "    <tr>\n",
       "      <th>493</th>\n",
       "      <td>6</td>\n",
       "      <td>119.0</td>\n",
       "      <td>50.0</td>\n",
       "      <td>22.0</td>\n",
       "      <td>165.0</td>\n",
       "      <td>27.1</td>\n",
       "      <td>1.318</td>\n",
       "      <td>33</td>\n",
       "      <td>1</td>\n",
       "    </tr>\n",
       "  </tbody>\n",
       "</table>\n",
       "<p>494 rows × 9 columns</p>\n",
       "</div>"
      ],
      "text/plain": [
       "     怀孕次数  2小时耐量试验值   舒张压  三头肌皮褶厚度  2小时血清胰岛素浓度   BMI   遗传函数  age  是否患病\n",
       "0       1      84.0  66.0     23.0        94.0  28.1  0.167   21     0\n",
       "1       0     137.0  40.0     35.0       168.0  43.1  2.288   33     1\n",
       "2       3      78.0  50.0     32.0        88.0  31.0  0.248   26     1\n",
       "3       2     148.0  70.0     31.0       370.0  30.5  0.158   53     1\n",
       "4       1     189.0  66.0     23.0       328.0  30.1  0.398   59     1\n",
       "..    ...       ...   ...      ...         ...   ...    ...  ...   ...\n",
       "489    10     148.0  84.0     48.0       237.0  37.6  1.001   51     1\n",
       "490     8     124.0  70.0     24.0       270.0  28.7  0.687   52     1\n",
       "491    10     125.0  70.0     26.0       115.0  31.1  0.205   41     1\n",
       "492     1     181.0  64.0     30.0       145.0  34.1  0.328   38     1\n",
       "493     6     119.0  50.0     22.0       165.0  27.1  1.318   33     1\n",
       "\n",
       "[494 rows x 9 columns]"
      ]
     },
     "execution_count": 11,
     "metadata": {},
     "output_type": "execute_result"
    }
   ],
   "source": [
    "new_data_imputed.complete_data(0)"
   ]
  },
  {
   "cell_type": "markdown",
   "id": "b5b2a1e0-0da9-43e8-a7a9-5b639e7f5d70",
   "metadata": {},
   "source": [
    "通过可视化方式观察插补结果，其中红线是原始数据，黑线是每个数据集插补结果："
   ]
  },
  {
   "cell_type": "code",
   "execution_count": 12,
   "id": "506c0365-cd27-4040-bb6c-b53bc359d7ae",
   "metadata": {},
   "outputs": [
    {
     "data": {
      "image/png": "[encoded data removed]",
      "text/plain": [
       "<Figure size 432x288 with 4 Axes>"
      ]
     },
     "metadata": {},
     "output_type": "display_data"
    }
   ],
   "source": [
    "kernel.plot_imputed_distributions(wspace=0.3,hspace=0.3)"
   ]
  },
  {
   "cell_type": "markdown",
   "id": "5b1dd738-94af-4752-a123-2e167d591bb1",
   "metadata": {},
   "source": [
    "【miceforest+PMM高精度填补，详见正课】"
   ]
  },
  {
   "cell_type": "markdown",
   "id": "183b0453-f472-4297-9433-0c9d50cd2fbf",
   "metadata": {},
   "source": [
    "<center><img src=\"https://s2.loli.net/2022/01/12/Pcqarbp7LuEKlNH.png\" alt=\"image-20220112191024625\" style=\"zoom:33%;\" />"
   ]
  },
  {
   "cell_type": "markdown",
   "id": "8436b651-9d57-4a89-9574-87ba185fe9d9",
   "metadata": {},
   "source": [
    "<center>\n",
    "\n",
    "<img src=\"https://s2.loli.net/2022/01/12/mCse6uN5fZI1EVH.png\" alt=\"image-20220112191055055\" style=\"zoom:33%;\" />"
   ]
  },
  {
   "cell_type": "markdown",
   "id": "fa3111f2-51db-4680-936f-b1941000cdc4",
   "metadata": {},
   "source": [
    "---"
   ]
  },
  {
   "cell_type": "markdown",
   "id": "cf34714d-ee5e-4692-95d5-a42b04ce38e4",
   "metadata": {},
   "source": [
    "## <center>Part 4.缺失值填补方法选取依据"
   ]
  },
  {
   "cell_type": "markdown",
   "id": "57e7083b-ff80-4918-811b-1c81d25b1651",
   "metadata": {},
   "source": [
    "- 非特殊情况不建议采用模型自带的填补方法。CART树的填补仅会导向训练集模型结果最优，但不一定能真实的反应数据真实规律，模型容易过拟合；LGB则是简单的把缺失值看成一类，实际上也就是在执行真值转化；      \n",
    "- 无论何时，如果能够从业务上推断出缺失值的真是取值，都应该首先采用该值进行填补，这是最高优先级的填补策略没有之一；      \n",
    "- 缺失值的占比也会很大程度上影响缺失值填补策略的选择。缺失值占比过大或过小，都没有太大的填补意义。例如，当缺失值比例超过80%时，我们几乎不可能从剩余的20%的数据中还原这一列应有的原始信息，无论用哪种方法填补，“瞎猜”的成分都比较大，最后的建模风险会非常高，因此建议删除；而如果缺失值占比过小，例如仅有0.5%缺失值，则无论用哪种方法填补，实际上数据的变动都不会对该特征的分布造成太大的影响，因此填补的效果也非常有限，此时应优先考虑高效快速完成填补事宜；当然，如果缺失值的比例为50%左右时，此时“猜测”缺失值的取值也变的意义不大，而是否缺失这件事情本身可能会更有价值；      \n",
    "- 很多时候，缺失值填补也不一定仅仅停留在对当前列的缺失数据进行修改，很多时候我们可以采用不同填补方案、生成多个列，然后在实际进行特征筛选时再进行挑选，甚至可以借助一些优化器帮我们筛选出最佳填补列。        "
   ]
  },
  {
   "cell_type": "markdown",
   "id": "094a143f-f59e-4375-9c87-63884635efe0",
   "metadata": {},
   "source": [
    "<center><img src=\"https://s2.loli.net/2022/01/12/26H9cbdigPpnav5.png\" alt=\"image-20220112170410691\" style=\"zoom:33%;\" />"
   ]
  },
  {
   "cell_type": "markdown",
   "id": "6a6cdbd1-a199-4982-85eb-ba3db9cd3cbe",
   "metadata": {},
   "source": [
    "<center><img src=\"https://s2.loli.net/2022/01/12/zFTIXK37i6jr5DU.png\" alt=\"image-20220112192212835\" style=\"zoom:50%;\" />"
   ]
  },
  {
   "cell_type": "code",
   "execution_count": null,
   "id": "a5fdd0e0-4e10-47e1-bd05-e5491f11c060",
   "metadata": {},
   "outputs": [],
   "source": []
  }
 ],
 "metadata": {
  "kernelspec": {
   "display_name": "Python 3",
   "language": "python",
   "name": "python3"
  },
  "language_info": {
   "codemirror_mode": {
    "name": "ipython",
    "version": 3
   },
   "file_extension": ".py",
   "mimetype": "text/x-python",
   "name": "python",
   "nbconvert_exporter": "python",
   "pygments_lexer": "ipython3",
   "version": "3.8.8"
  },
  "pycharm": {
   "stem_cell": {
    "cell_type": "raw",
    "source": [],
    "metadata": {
     "collapsed": false
    }
   }
  }
 },
 "nbformat": 4,
 "nbformat_minor": 5
}