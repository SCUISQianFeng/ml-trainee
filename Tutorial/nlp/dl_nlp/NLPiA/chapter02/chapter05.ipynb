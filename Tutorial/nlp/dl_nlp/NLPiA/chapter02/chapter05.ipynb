{
 "cells": [
  {
   "cell_type": "code",
   "execution_count": null,
   "metadata": {},
   "outputs": [],
   "source": []
  },
  {
   "cell_type": "code",
   "execution_count": 1,
   "metadata": {
    "ExecuteTime": {
     "end_time": "2021-06-10T11:22:18.349297Z",
     "start_time": "2021-06-10T11:22:18.339303Z"
    }
   },
   "outputs": [],
   "source": [
    "# np 基础操作"
   ]
  },
  {
   "cell_type": "code",
   "execution_count": 3,
   "metadata": {
    "ExecuteTime": {
     "end_time": "2021-06-10T11:22:42.275613Z",
     "start_time": "2021-06-10T11:22:42.157680Z"
    }
   },
   "outputs": [],
   "source": [
    "import numpy as np\n",
    "from random import random"
   ]
  },
  {
   "cell_type": "code",
   "execution_count": 14,
   "metadata": {
    "ExecuteTime": {
     "end_time": "2021-06-10T11:43:57.476279Z",
     "start_time": "2021-06-10T11:43:57.471282Z"
    }
   },
   "outputs": [],
   "source": [
    "# parameter\n",
    "weights = np.random.random(2) / 1000\n",
    "bias = np.random.random() / 1000"
   ]
  },
  {
   "cell_type": "code",
   "execution_count": 15,
   "metadata": {
    "ExecuteTime": {
     "end_time": "2021-06-10T11:43:58.165884Z",
     "start_time": "2021-06-10T11:43:58.149893Z"
    }
   },
   "outputs": [],
   "source": [
    "sample_data = [[0, 0],\n",
    "               [0, 1],\n",
    "               [1, 0],\n",
    "               [1, 1]]\n",
    "expected_results = [0,\n",
    "                    1,\n",
    "                    1,\n",
    "                    1]\n",
    "activation_threshold = 0.5"
   ]
  },
  {
   "cell_type": "code",
   "execution_count": 16,
   "metadata": {
    "ExecuteTime": {
     "end_time": "2021-06-10T11:43:58.945439Z",
     "start_time": "2021-06-10T11:43:58.934445Z"
    }
   },
   "outputs": [
    {
     "name": "stdout",
     "output_type": "stream",
     "text": [
      "2 correct answers out of 4, for iteration 0\n",
      "3 correct answers out of 4, for iteration 1\n",
      "2 correct answers out of 4, for iteration 2\n",
      "2 correct answers out of 4, for iteration 3\n",
      "2 correct answers out of 4, for iteration 4\n",
      "2 correct answers out of 4, for iteration 5\n",
      "2 correct answers out of 4, for iteration 6\n",
      "2 correct answers out of 4, for iteration 7\n",
      "2 correct answers out of 4, for iteration 8\n",
      "2 correct answers out of 4, for iteration 9\n",
      "2 correct answers out of 4, for iteration 10\n",
      "2 correct answers out of 4, for iteration 11\n",
      "2 correct answers out of 4, for iteration 12\n",
      "2 correct answers out of 4, for iteration 13\n",
      "2 correct answers out of 4, for iteration 14\n",
      "2 correct answers out of 4, for iteration 15\n",
      "2 correct answers out of 4, for iteration 16\n",
      "2 correct answers out of 4, for iteration 17\n",
      "2 correct answers out of 4, for iteration 18\n",
      "2 correct answers out of 4, for iteration 19\n"
     ]
    }
   ],
   "source": [
    "for iteration_num in range(20):\n",
    "    correct_answers = 0\n",
    "    for idx, sample in enumerate(sample_data):\n",
    "        input_vector = np.array(sample)\n",
    "        avtivation_level = np.dot(weights, input_vector) + (bias + 1)\n",
    "        if avtivation_level > activation_threshold:\n",
    "            perceptron_output = 1\n",
    "        else:\n",
    "            perceptron_output = 0\n",
    "\n",
    "        if perceptron_output == expected_results[idx]:\n",
    "            correct_answers += 1\n",
    "        new_weights = []\n",
    "        for i, x in enumerate(sample):\n",
    "            new_weights.append(weights[i] + (expected_results[i] - perceptron_output) * x)\n",
    "        bias = bias + (expected_results[i] - perceptron_output) * 1\n",
    "        weights = np.array(new_weights)\n",
    "    print('{} correct answers out of 4, for iteration {}'.format(correct_answers, iteration_num))\n",
    "    "
   ]
  },
  {
   "cell_type": "code",
   "execution_count": null,
   "metadata": {},
   "outputs": [],
   "source": []
  }
 ],
 "metadata": {
  "kernelspec": {
   "display_name": "Python 3",
   "language": "python",
   "name": "python3"
  },
  "language_info": {
   "codemirror_mode": {
    "name": "ipython",
    "version": 3
   },
   "file_extension": ".py",
   "mimetype": "text/x-python",
   "name": "python",
   "nbconvert_exporter": "python",
   "pygments_lexer": "ipython3",
   "version": "3.7.10"
  }
 },
 "nbformat": 4,
 "nbformat_minor": 1
}
