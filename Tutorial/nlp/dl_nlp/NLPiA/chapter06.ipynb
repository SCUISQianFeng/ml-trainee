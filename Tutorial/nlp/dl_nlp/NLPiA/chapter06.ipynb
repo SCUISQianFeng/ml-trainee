{
 "cells": [
  {
   "cell_type": "code",
   "execution_count": 4,
   "metadata": {
    "ExecuteTime": {
     "end_time": "2021-06-25T06:53:18.986414Z",
     "start_time": "2021-06-25T06:53:11.659115Z"
    }
   },
   "outputs": [
    {
     "name": "stderr",
     "output_type": "stream",
     "text": [
      "INFO:nlpia.loaders:Downloading word2vec\n",
      "DEBUG:nlpia.futil:regex pattern = ^[.]?([^.]*)\\.([^.]{1,10})*\\.300d\\.zip$, string=googlenews-vectors-negative300.bin.gz\n",
      "DEBUG:nlpia.futil:regex pattern = ^[.]?([^.]*)\\.([^.]{1,10})*\\.27b\\.zip$, string=googlenews-vectors-negative300.bin.gz\n",
      "DEBUG:nlpia.futil:regex pattern = ^[.]?([^.]*)\\.([^.]{1,10})*\\.42b\\.zip$, string=googlenews-vectors-negative300.bin.gz\n",
      "DEBUG:nlpia.futil:regex pattern = ^[.]?([^.]*)\\.([^.]{1,10})*\\.6b\\.zip$, string=googlenews-vectors-negative300.bin.gz\n",
      "DEBUG:nlpia.futil:regex pattern = ^[.]?([^.]*)\\.([^.]{1,10})*\\.bin\\.gz$, string=googlenews-vectors-negative300.bin.gz\n",
      "DEBUG:nlpia.futil:regex pattern = ^[.]?([^.]*)\\.([^.]{1,10})*\\.tgz$, string=googlenews-vectors-negative300.bin.gz\n",
      "INFO:nlpia.loaders:expanded+normalized file path: D:\\DEVTOOLS\\Anaconda3\\envs\\tf\\lib\\site-packages\\nlpia\\bigdata\\googlenews-vectors-negative300.bin.gz\n",
      "INFO:nlpia.loaders:requesting URL: https://www.dropbox.com/s/965dir4dje0hfi4/GoogleNews-vectors-negative300.bin.gz?dl=1\n",
      "INFO:nlpia.loaders:remote_size: 1647046227\n",
      "INFO:nlpia.loaders:local_size: 1647046227\n",
      "INFO:nlpia.loaders:retained: D:\\DEVTOOLS\\Anaconda3\\envs\\tf\\lib\\site-packages\\nlpia\\bigdata\\googlenews-vectors-negative300.bin.gz\n",
      "WARNING:nlpia.loaders:normalize_ext.filepath=D:\\DEVTOOLS\\Anaconda3\\envs\\tf\\lib\\site-packages\\nlpia\\bigdata\\googlenews-vectors-negative300.bin.gz\n",
      "DEBUG:nlpia.futil:regex pattern = ^[.]?([^.]*)\\.([^.]{1,10})*\\.300d\\.zip$, string=D:\\DEVTOOLS\\Anaconda3\\envs\\tf\\lib\\site-packages\\nlpia\\bigdata\\googlenews-vectors-negative300.bin.gz\n",
      "DEBUG:nlpia.futil:regex pattern = ^[.]?([^.]*)\\.([^.]{1,10})*\\.27b\\.zip$, string=D:\\DEVTOOLS\\Anaconda3\\envs\\tf\\lib\\site-packages\\nlpia\\bigdata\\googlenews-vectors-negative300.bin.gz\n",
      "DEBUG:nlpia.futil:regex pattern = ^[.]?([^.]*)\\.([^.]{1,10})*\\.42b\\.zip$, string=D:\\DEVTOOLS\\Anaconda3\\envs\\tf\\lib\\site-packages\\nlpia\\bigdata\\googlenews-vectors-negative300.bin.gz\n",
      "DEBUG:nlpia.futil:regex pattern = ^[.]?([^.]*)\\.([^.]{1,10})*\\.6b\\.zip$, string=D:\\DEVTOOLS\\Anaconda3\\envs\\tf\\lib\\site-packages\\nlpia\\bigdata\\googlenews-vectors-negative300.bin.gz\n",
      "DEBUG:nlpia.futil:regex pattern = ^[.]?([^.]*)\\.([^.]{1,10})*\\.bin\\.gz$, string=D:\\DEVTOOLS\\Anaconda3\\envs\\tf\\lib\\site-packages\\nlpia\\bigdata\\googlenews-vectors-negative300.bin.gz\n",
      "DEBUG:nlpia.futil:regex pattern = ^[.]?([^.]*)\\.([^.]{1,10})*\\.tgz$, string=D:\\DEVTOOLS\\Anaconda3\\envs\\tf\\lib\\site-packages\\nlpia\\bigdata\\googlenews-vectors-negative300.bin.gz\n",
      "WARNING:nlpia.loaders:download_unzip.new_filepaths=D:\\DEVTOOLS\\Anaconda3\\envs\\tf\\lib\\site-packages\\nlpia\\bigdata\\googlenews-vectors-negative300.bin.gz\n",
      "DEBUG:nlpia.loaders:nlpia.loaders.rename_file(source=D:\\DEVTOOLS\\Anaconda3\\envs\\tf\\lib\\site-packages\\nlpia\\bigdata\\googlenews-vectors-negative300.bin.gz, dest=D:\\DEVTOOLS\\Anaconda3\\envs\\tf\\lib\\site-packages\\nlpia\\bigdata\\googlenews-vectors-negative300.bin.gz)\n",
      "DEBUG:nlpia.loaders:nlpia.loaders.os.rename(source=D:\\DEVTOOLS\\Anaconda3\\envs\\tf\\lib\\site-packages\\nlpia\\bigdata\\googlenews-vectors-negative300.bin.gz, dest=D:\\DEVTOOLS\\Anaconda3\\envs\\tf\\lib\\site-packages\\nlpia\\bigdata\\googlenews-vectors-negative300.bin.gz)\n",
      "WARNING:nlpia.loaders:download_unzip.filepath=D:\\DEVTOOLS\\Anaconda3\\envs\\tf\\lib\\site-packages\\nlpia\\bigdata\\googlenews-vectors-negative300.bin.gz\n",
      "DEBUG:nlpia.loaders:downloaded name=word2vec to filepath=D:\\DEVTOOLS\\Anaconda3\\envs\\tf\\lib\\site-packages\\nlpia\\bigdata\\googlenews-vectors-negative300.bin.gz\n",
      "DEBUG:nlpia.loaders:nlpia.loaders.get_data.filepaths={'word2vec': 'D:\\\\DEVTOOLS\\\\Anaconda3\\\\envs\\\\tf\\\\lib\\\\site-packages\\\\nlpia\\\\bigdata\\\\googlenews-vectors-negative300.bin.gz'}\n",
      "DEBUG:nlpia.loaders:nlpia.loaders.get_data.filepath=D:\\DEVTOOLS\\Anaconda3\\envs\\tf\\lib\\site-packages\\nlpia\\bigdata\\googlenews-vectors-negative300.bin.gz\n",
      "INFO:gensim.models.utils_any2vec:loading projection weights from D:\\DEVTOOLS\\Anaconda3\\envs\\tf\\lib\\site-packages\\nlpia\\bigdata\\googlenews-vectors-negative300.bin.gz\n",
      "INFO:gensim.models.utils_any2vec:loaded (3000000, 300) matrix from D:\\DEVTOOLS\\Anaconda3\\envs\\tf\\lib\\site-packages\\nlpia\\bigdata\\googlenews-vectors-negative300.bin.gz\n"
     ]
    },
    {
     "data": {
      "text/plain": "placeness     -0.46\npeopleness     0.35\nanimalness     0.17\nconceptness   -0.32\nfemaleness     0.26\ndtype: float64"
     },
     "execution_count": 4,
     "metadata": {},
     "output_type": "execute_result"
    }
   ],
   "source": [
    "import numpy as np\n",
    "from nlpia.book.examples.ch06_nessvectors import *\n",
    "\n",
    "nessvector('Marie_Curie').round(2)"
   ]
  },
  {
   "cell_type": "code",
   "execution_count": null,
   "outputs": [],
   "source": [],
   "metadata": {
    "collapsed": false,
    "pycharm": {
     "name": "#%%\n"
    }
   }
  },
  {
   "cell_type": "code",
   "execution_count": null,
   "metadata": {},
   "outputs": [],
   "source": []
  }
 ],
 "metadata": {
  "kernelspec": {
   "name": "python37764bittfconda715fa12f9e2c4570bd1cd97f5dd7f673",
   "language": "python",
   "display_name": "Python 3.7.7 64-bit ('tf': conda)"
  },
  "language_info": {
   "codemirror_mode": {
    "name": "ipython",
    "version": 3
   },
   "file_extension": ".py",
   "mimetype": "text/x-python",
   "name": "python",
   "nbconvert_exporter": "python",
   "pygments_lexer": "ipython3",
   "version": "3.7.10"
  }
 },
 "nbformat": 4,
 "nbformat_minor": 1
}